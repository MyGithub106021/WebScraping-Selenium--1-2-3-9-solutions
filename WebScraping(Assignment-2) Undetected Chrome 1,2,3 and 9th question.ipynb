{
 "cells": [
  {
   "cell_type": "code",
   "execution_count": 35,
   "metadata": {},
   "outputs": [
    {
     "name": "stdout",
     "output_type": "stream",
     "text": [
      "Requirement already satisfied: selenium in c:\\users\\ifath fatima\\anaconda3\\lib\\site-packages (4.0.0b4)\n",
      "Collecting urllib3[secure]~=1.26\n",
      "  Using cached urllib3-1.26.6-py2.py3-none-any.whl (138 kB)\n",
      "Requirement already satisfied: trio-websocket~=0.9 in c:\\users\\ifath fatima\\anaconda3\\lib\\site-packages (from selenium) (0.9.2)\n",
      "Requirement already satisfied: trio~=0.17 in c:\\users\\ifath fatima\\anaconda3\\lib\\site-packages (from selenium) (0.19.0)\n",
      "Requirement already satisfied: certifi; extra == \"secure\" in c:\\users\\ifath fatima\\anaconda3\\lib\\site-packages (from urllib3[secure]~=1.26->selenium) (2020.6.20)\n",
      "Requirement already satisfied: idna>=2.0.0; extra == \"secure\" in c:\\users\\ifath fatima\\anaconda3\\lib\\site-packages (from urllib3[secure]~=1.26->selenium) (2.10)\n",
      "Requirement already satisfied: cryptography>=1.3.4; extra == \"secure\" in c:\\users\\ifath fatima\\anaconda3\\lib\\site-packages (from urllib3[secure]~=1.26->selenium) (3.1.1)\n",
      "Requirement already satisfied: pyOpenSSL>=0.14; extra == \"secure\" in c:\\users\\ifath fatima\\anaconda3\\lib\\site-packages (from urllib3[secure]~=1.26->selenium) (19.1.0)\n",
      "Requirement already satisfied: wsproto>=0.14 in c:\\users\\ifath fatima\\anaconda3\\lib\\site-packages (from trio-websocket~=0.9->selenium) (1.0.0)\n",
      "Requirement already satisfied: async-generator>=1.10 in c:\\users\\ifath fatima\\anaconda3\\lib\\site-packages (from trio-websocket~=0.9->selenium) (1.10)\n",
      "Requirement already satisfied: sortedcontainers in c:\\users\\ifath fatima\\anaconda3\\lib\\site-packages (from trio~=0.17->selenium) (2.2.2)\n",
      "Requirement already satisfied: cffi>=1.14; os_name == \"nt\" and implementation_name != \"pypy\" in c:\\users\\ifath fatima\\anaconda3\\lib\\site-packages (from trio~=0.17->selenium) (1.14.3)\n",
      "Requirement already satisfied: attrs>=19.2.0 in c:\\users\\ifath fatima\\anaconda3\\lib\\site-packages (from trio~=0.17->selenium) (20.3.0)\n",
      "Requirement already satisfied: sniffio in c:\\users\\ifath fatima\\anaconda3\\lib\\site-packages (from trio~=0.17->selenium) (1.2.0)\n",
      "Requirement already satisfied: outcome in c:\\users\\ifath fatima\\anaconda3\\lib\\site-packages (from trio~=0.17->selenium) (1.1.0)\n",
      "Requirement already satisfied: six>=1.4.1 in c:\\users\\ifath fatima\\anaconda3\\lib\\site-packages (from cryptography>=1.3.4; extra == \"secure\"->urllib3[secure]~=1.26->selenium) (1.15.0)\n",
      "Requirement already satisfied: h11<1,>=0.9.0 in c:\\users\\ifath fatima\\anaconda3\\lib\\site-packages (from wsproto>=0.14->trio-websocket~=0.9->selenium) (0.12.0)\n",
      "Requirement already satisfied: pycparser in c:\\users\\ifath fatima\\anaconda3\\lib\\site-packages (from cffi>=1.14; os_name == \"nt\" and implementation_name != \"pypy\"->trio~=0.17->selenium) (2.20)\n",
      "Installing collected packages: urllib3\n",
      "  Attempting uninstall: urllib3\n",
      "    Found existing installation: urllib3 1.25.11\n",
      "    Uninstalling urllib3-1.25.11:\n",
      "      Successfully uninstalled urllib3-1.25.11\n",
      "Successfully installed urllib3-1.26.6\n"
     ]
    },
    {
     "name": "stderr",
     "output_type": "stream",
     "text": [
      "ERROR: After October 2020 you may experience errors when installing or updating packages. This is because pip will change the way that it resolves dependency conflicts.\n",
      "\n",
      "We recommend you use --use-feature=2020-resolver to test your packages with the new resolver before it becomes the default.\n",
      "\n",
      "requests 2.24.0 requires urllib3!=1.25.0,!=1.25.1,<1.26,>=1.21.1, but you'll have urllib3 1.26.6 which is incompatible.\n"
     ]
    },
    {
     "name": "stdout",
     "output_type": "stream",
     "text": [
      "Requirement already satisfied: undetected-chromedriver in c:\\users\\ifath fatima\\anaconda3\\lib\\site-packages (3.0.3)\n",
      "Requirement already satisfied: requests in c:\\users\\ifath fatima\\anaconda3\\lib\\site-packages (from undetected-chromedriver) (2.24.0)\n",
      "Requirement already satisfied: selenium==4.0.0b4 in c:\\users\\ifath fatima\\anaconda3\\lib\\site-packages (from undetected-chromedriver) (4.0.0b4)\n",
      "Requirement already satisfied: websockets in c:\\users\\ifath fatima\\anaconda3\\lib\\site-packages (from undetected-chromedriver) (10.0)\n",
      "Collecting urllib3!=1.25.0,!=1.25.1,<1.26,>=1.21.1\n",
      "  Using cached urllib3-1.25.11-py2.py3-none-any.whl (127 kB)\n",
      "Requirement already satisfied: certifi>=2017.4.17 in c:\\users\\ifath fatima\\anaconda3\\lib\\site-packages (from requests->undetected-chromedriver) (2020.6.20)\n",
      "Requirement already satisfied: idna<3,>=2.5 in c:\\users\\ifath fatima\\anaconda3\\lib\\site-packages (from requests->undetected-chromedriver) (2.10)\n",
      "Requirement already satisfied: chardet<4,>=3.0.2 in c:\\users\\ifath fatima\\anaconda3\\lib\\site-packages (from requests->undetected-chromedriver) (3.0.4)\n",
      "Requirement already satisfied: trio~=0.17 in c:\\users\\ifath fatima\\anaconda3\\lib\\site-packages (from selenium==4.0.0b4->undetected-chromedriver) (0.19.0)\n",
      "Requirement already satisfied: trio-websocket~=0.9 in c:\\users\\ifath fatima\\anaconda3\\lib\\site-packages (from selenium==4.0.0b4->undetected-chromedriver) (0.9.2)\n",
      "Requirement already satisfied: sortedcontainers in c:\\users\\ifath fatima\\anaconda3\\lib\\site-packages (from trio~=0.17->selenium==4.0.0b4->undetected-chromedriver) (2.2.2)\n",
      "Requirement already satisfied: sniffio in c:\\users\\ifath fatima\\anaconda3\\lib\\site-packages (from trio~=0.17->selenium==4.0.0b4->undetected-chromedriver) (1.2.0)\n",
      "Requirement already satisfied: cffi>=1.14; os_name == \"nt\" and implementation_name != \"pypy\" in c:\\users\\ifath fatima\\anaconda3\\lib\\site-packages (from trio~=0.17->selenium==4.0.0b4->undetected-chromedriver) (1.14.3)\n",
      "Requirement already satisfied: outcome in c:\\users\\ifath fatima\\anaconda3\\lib\\site-packages (from trio~=0.17->selenium==4.0.0b4->undetected-chromedriver) (1.1.0)\n",
      "Requirement already satisfied: attrs>=19.2.0 in c:\\users\\ifath fatima\\anaconda3\\lib\\site-packages (from trio~=0.17->selenium==4.0.0b4->undetected-chromedriver) (20.3.0)\n",
      "Requirement already satisfied: async-generator>=1.9 in c:\\users\\ifath fatima\\anaconda3\\lib\\site-packages (from trio~=0.17->selenium==4.0.0b4->undetected-chromedriver) (1.10)\n",
      "Requirement already satisfied: wsproto>=0.14 in c:\\users\\ifath fatima\\anaconda3\\lib\\site-packages (from trio-websocket~=0.9->selenium==4.0.0b4->undetected-chromedriver) (1.0.0)\n",
      "Requirement already satisfied: pycparser in c:\\users\\ifath fatima\\anaconda3\\lib\\site-packages (from cffi>=1.14; os_name == \"nt\" and implementation_name != \"pypy\"->trio~=0.17->selenium==4.0.0b4->undetected-chromedriver) (2.20)\n",
      "Requirement already satisfied: h11<1,>=0.9.0 in c:\\users\\ifath fatima\\anaconda3\\lib\\site-packages (from wsproto>=0.14->trio-websocket~=0.9->selenium==4.0.0b4->undetected-chromedriver) (0.12.0)\n",
      "Installing collected packages: urllib3\n",
      "  Attempting uninstall: urllib3\n",
      "    Found existing installation: urllib3 1.26.6\n",
      "    Uninstalling urllib3-1.26.6:\n",
      "      Successfully uninstalled urllib3-1.26.6\n",
      "Successfully installed urllib3-1.25.11\n"
     ]
    },
    {
     "name": "stderr",
     "output_type": "stream",
     "text": [
      "ERROR: After October 2020 you may experience errors when installing or updating packages. This is because pip will change the way that it resolves dependency conflicts.\n",
      "\n",
      "We recommend you use --use-feature=2020-resolver to test your packages with the new resolver before it becomes the default.\n",
      "\n",
      "selenium 4.0.0b4 requires urllib3[secure]~=1.26, but you'll have urllib3 1.25.11 which is incompatible.\n"
     ]
    }
   ],
   "source": [
    "!pip install selenium\n",
    "!pip install undetected-chromedriver\n"
   ]
  },
  {
   "cell_type": "code",
   "execution_count": 42,
   "metadata": {},
   "outputs": [],
   "source": [
    "import undetected_chromedriver as uc\n",
    "import selenium\n",
    "from selenium import webdriver"
   ]
  },
  {
   "cell_type": "code",
   "execution_count": null,
   "metadata": {},
   "outputs": [],
   "source": []
  },
  {
   "cell_type": "code",
   "execution_count": 43,
   "metadata": {},
   "outputs": [],
   "source": [
    "options = webdriver.ChromeOptions()\n",
    "\n",
    "options.add_argument(\"start-maximized\")\n",
    "\n",
    "driver = uc.Chrome(executable_path='chromedriver.exe', options=options)\n",
    "\n",
    "keyword = \"https://www.naukri.com/\"\n",
    "\n",
    "driver.get(keyword)\n"
   ]
  },
  {
   "cell_type": "code",
   "execution_count": 46,
   "metadata": {},
   "outputs": [
    {
     "data": {
      "text/plain": [
       "<selenium.webdriver.remote.webelement.WebElement (session=\"a1df808bd1679e06da637577986a6d98\", element=\"8cc347f1-0583-4203-94b0-75a365711aab\")>"
      ]
     },
     "execution_count": 46,
     "metadata": {},
     "output_type": "execute_result"
    }
   ],
   "source": [
    "search_job=driver.find_element_by_xpath('//input[@class=\"sugInp\"]')\n",
    "search_job"
   ]
  },
  {
   "cell_type": "code",
   "execution_count": 47,
   "metadata": {},
   "outputs": [],
   "source": [
    "search_job.send_keys(\"Data Analyst\")"
   ]
  },
  {
   "cell_type": "code",
   "execution_count": 48,
   "metadata": {},
   "outputs": [
    {
     "data": {
      "text/plain": [
       "<selenium.webdriver.remote.webelement.WebElement (session=\"a1df808bd1679e06da637577986a6d98\", element=\"d2f54254-08f2-4fe5-bdfb-784d542f1fb1\")>"
      ]
     },
     "execution_count": 48,
     "metadata": {},
     "output_type": "execute_result"
    }
   ],
   "source": [
    "search_loc=driver.find_element_by_xpath('//input[@name=\"location\"]')\n",
    "search_loc"
   ]
  },
  {
   "cell_type": "code",
   "execution_count": 49,
   "metadata": {},
   "outputs": [],
   "source": [
    "search_loc.send_keys(\"Banglore\")"
   ]
  },
  {
   "cell_type": "code",
   "execution_count": 50,
   "metadata": {},
   "outputs": [
    {
     "data": {
      "text/plain": [
       "<selenium.webdriver.remote.webelement.WebElement (session=\"a1df808bd1679e06da637577986a6d98\", element=\"b8650c71-f847-4581-b535-0c49aaaff8f6\")>"
      ]
     },
     "execution_count": 50,
     "metadata": {},
     "output_type": "execute_result"
    }
   ],
   "source": [
    "search_btn=driver.find_element_by_xpath('//button[@class=\"btn\"]')\n",
    "search_btn"
   ]
  },
  {
   "cell_type": "code",
   "execution_count": 51,
   "metadata": {},
   "outputs": [],
   "source": [
    "search_btn.click()"
   ]
  },
  {
   "cell_type": "code",
   "execution_count": 54,
   "metadata": {},
   "outputs": [
    {
     "data": {
      "text/plain": [
       "[<selenium.webdriver.remote.webelement.WebElement (session=\"a1df808bd1679e06da637577986a6d98\", element=\"1da18620-b86a-4cee-a2b4-89bfe0d42d92\")>,\n",
       " <selenium.webdriver.remote.webelement.WebElement (session=\"a1df808bd1679e06da637577986a6d98\", element=\"57fcaf96-1943-45f9-9e34-6fb8592a9f25\")>,\n",
       " <selenium.webdriver.remote.webelement.WebElement (session=\"a1df808bd1679e06da637577986a6d98\", element=\"2992c0ae-97cc-48f3-9083-4f4b02612350\")>,\n",
       " <selenium.webdriver.remote.webelement.WebElement (session=\"a1df808bd1679e06da637577986a6d98\", element=\"4e8baf23-2557-41f0-a473-dcf62edd7765\")>,\n",
       " <selenium.webdriver.remote.webelement.WebElement (session=\"a1df808bd1679e06da637577986a6d98\", element=\"2ab543f3-b9fc-4f9b-ab19-146a784e50a5\")>,\n",
       " <selenium.webdriver.remote.webelement.WebElement (session=\"a1df808bd1679e06da637577986a6d98\", element=\"93384875-4dc5-4132-a87b-9fe32433e194\")>,\n",
       " <selenium.webdriver.remote.webelement.WebElement (session=\"a1df808bd1679e06da637577986a6d98\", element=\"e76236ca-a783-4bb6-b87b-ca73abd11b15\")>,\n",
       " <selenium.webdriver.remote.webelement.WebElement (session=\"a1df808bd1679e06da637577986a6d98\", element=\"603635bd-1772-4b59-8ad7-71784534b35b\")>,\n",
       " <selenium.webdriver.remote.webelement.WebElement (session=\"a1df808bd1679e06da637577986a6d98\", element=\"a805ff93-4449-453a-a566-035fe9777359\")>,\n",
       " <selenium.webdriver.remote.webelement.WebElement (session=\"a1df808bd1679e06da637577986a6d98\", element=\"4ce753a7-3f0c-40cd-b150-a9a760ac1814\")>,\n",
       " <selenium.webdriver.remote.webelement.WebElement (session=\"a1df808bd1679e06da637577986a6d98\", element=\"8f366317-183c-4e05-98db-041ee5b0ee8e\")>,\n",
       " <selenium.webdriver.remote.webelement.WebElement (session=\"a1df808bd1679e06da637577986a6d98\", element=\"78f125ac-b3cf-4863-8852-af0c180cc9bb\")>,\n",
       " <selenium.webdriver.remote.webelement.WebElement (session=\"a1df808bd1679e06da637577986a6d98\", element=\"45a385dc-f1c8-4a80-a228-061932aa56e3\")>,\n",
       " <selenium.webdriver.remote.webelement.WebElement (session=\"a1df808bd1679e06da637577986a6d98\", element=\"d7c51f41-8677-4e8f-94c1-4e5472856696\")>,\n",
       " <selenium.webdriver.remote.webelement.WebElement (session=\"a1df808bd1679e06da637577986a6d98\", element=\"bb65e3ea-6a17-468f-ba2e-4691d02482ad\")>,\n",
       " <selenium.webdriver.remote.webelement.WebElement (session=\"a1df808bd1679e06da637577986a6d98\", element=\"510fbb1b-b1a2-430d-b610-d8110578176d\")>,\n",
       " <selenium.webdriver.remote.webelement.WebElement (session=\"a1df808bd1679e06da637577986a6d98\", element=\"d60c5227-d873-4311-9227-075326f817e3\")>,\n",
       " <selenium.webdriver.remote.webelement.WebElement (session=\"a1df808bd1679e06da637577986a6d98\", element=\"17ce360a-a9e1-44c8-b4d1-a9355a589c59\")>,\n",
       " <selenium.webdriver.remote.webelement.WebElement (session=\"a1df808bd1679e06da637577986a6d98\", element=\"8ada3914-e3da-4bb0-9c46-c2b5f7d74f69\")>,\n",
       " <selenium.webdriver.remote.webelement.WebElement (session=\"a1df808bd1679e06da637577986a6d98\", element=\"3b90bc7a-0ef5-4167-b423-02f0b5c7e53f\")>]"
      ]
     },
     "execution_count": 54,
     "metadata": {},
     "output_type": "execute_result"
    }
   ],
   "source": [
    "titles_tags=driver.find_elements_by_xpath('//a[@class=\"title fw500 ellipsis\"]')\n",
    "titles_tags"
   ]
  },
  {
   "cell_type": "code",
   "execution_count": 55,
   "metadata": {},
   "outputs": [
    {
     "data": {
      "text/plain": [
       "['Data Analyst / Data Scientist / Business Analytics / Fresher / MNC OSC',\n",
       " 'Business Data Analyst',\n",
       " 'Business Data Analyst ( Mortgage Exp )',\n",
       " 'Senior Data Analyst',\n",
       " 'Business Analyst & Data Analyst',\n",
       " 'Business Analyst & Data Analyst',\n",
       " 'Tcs Hiring For Senior Data Analyst (bfsi domain)',\n",
       " 'Sr Analyst Data Reptg&Business Analytics',\n",
       " 'Business Data Analyst',\n",
       " 'Business Data Analyst',\n",
       " 'Tcs Hiring For MDM (master data management) Data Analyst (bfsi domain)',\n",
       " 'Senior Data Analyst',\n",
       " 'Senior Cyber Incident Data Analyst',\n",
       " 'Senior Data Analyst IDAM Services',\n",
       " 'Data Analyst/Sr.Data Engineer',\n",
       " 'Opening For Freshers as Data Analyst',\n",
       " 'Data Analyst',\n",
       " 'SENIOR DATA ANALYST',\n",
       " 'Executive Data Analyst',\n",
       " 'Senior Data Analyst IN4']"
      ]
     },
     "execution_count": 55,
     "metadata": {},
     "output_type": "execute_result"
    }
   ],
   "source": [
    "job_titles=[]\n",
    "for i in titles_tags:\n",
    "    job_titles.append(i.text)\n",
    "job_titles"
   ]
  },
  {
   "cell_type": "code",
   "execution_count": 56,
   "metadata": {},
   "outputs": [
    {
     "data": {
      "text/plain": [
       "[<selenium.webdriver.remote.webelement.WebElement (session=\"a1df808bd1679e06da637577986a6d98\", element=\"f09bb930-f832-4ccd-8893-f03b981d2bc6\")>,\n",
       " <selenium.webdriver.remote.webelement.WebElement (session=\"a1df808bd1679e06da637577986a6d98\", element=\"63b5c121-2897-4e49-ab29-1c722f6b4fc5\")>,\n",
       " <selenium.webdriver.remote.webelement.WebElement (session=\"a1df808bd1679e06da637577986a6d98\", element=\"0e323c8a-d228-4f6a-9213-3b78c399b09b\")>,\n",
       " <selenium.webdriver.remote.webelement.WebElement (session=\"a1df808bd1679e06da637577986a6d98\", element=\"5af50957-7121-4b1e-a9ee-251f3d98bf61\")>,\n",
       " <selenium.webdriver.remote.webelement.WebElement (session=\"a1df808bd1679e06da637577986a6d98\", element=\"d21d214a-9b01-42f5-890c-3df3a162ee06\")>,\n",
       " <selenium.webdriver.remote.webelement.WebElement (session=\"a1df808bd1679e06da637577986a6d98\", element=\"531a503b-269c-41d1-8000-f972fc97d0f7\")>,\n",
       " <selenium.webdriver.remote.webelement.WebElement (session=\"a1df808bd1679e06da637577986a6d98\", element=\"ff317bdd-57f6-4d8b-abba-c4a2c7b7f615\")>,\n",
       " <selenium.webdriver.remote.webelement.WebElement (session=\"a1df808bd1679e06da637577986a6d98\", element=\"51fba048-fd8c-4897-ac53-c228ea8c7cb9\")>,\n",
       " <selenium.webdriver.remote.webelement.WebElement (session=\"a1df808bd1679e06da637577986a6d98\", element=\"0ca8d567-1616-4844-8da8-7a95631fc456\")>,\n",
       " <selenium.webdriver.remote.webelement.WebElement (session=\"a1df808bd1679e06da637577986a6d98\", element=\"0b7dd861-c138-47cb-8b89-ff6aafebd4a6\")>,\n",
       " <selenium.webdriver.remote.webelement.WebElement (session=\"a1df808bd1679e06da637577986a6d98\", element=\"973ff278-6775-446d-b908-ba873a0c6666\")>,\n",
       " <selenium.webdriver.remote.webelement.WebElement (session=\"a1df808bd1679e06da637577986a6d98\", element=\"674a201e-29fe-4cd6-a993-873e7b1c5f4d\")>,\n",
       " <selenium.webdriver.remote.webelement.WebElement (session=\"a1df808bd1679e06da637577986a6d98\", element=\"a02666c2-3a72-4dd6-9d64-ce63231e73b7\")>,\n",
       " <selenium.webdriver.remote.webelement.WebElement (session=\"a1df808bd1679e06da637577986a6d98\", element=\"d0e2e894-0f38-4d79-96af-baedf1fe690e\")>,\n",
       " <selenium.webdriver.remote.webelement.WebElement (session=\"a1df808bd1679e06da637577986a6d98\", element=\"e621cf45-ae2d-4b8a-9234-fe757728d340\")>,\n",
       " <selenium.webdriver.remote.webelement.WebElement (session=\"a1df808bd1679e06da637577986a6d98\", element=\"70252370-e6ca-4ea7-99f7-17a078cba539\")>,\n",
       " <selenium.webdriver.remote.webelement.WebElement (session=\"a1df808bd1679e06da637577986a6d98\", element=\"87550b0a-f0fe-481d-8091-91916d381f04\")>,\n",
       " <selenium.webdriver.remote.webelement.WebElement (session=\"a1df808bd1679e06da637577986a6d98\", element=\"72c55291-4d8a-4401-9f04-0fff90b66d86\")>,\n",
       " <selenium.webdriver.remote.webelement.WebElement (session=\"a1df808bd1679e06da637577986a6d98\", element=\"b48a0dec-af54-4d36-bc61-faa5d8d98d6f\")>,\n",
       " <selenium.webdriver.remote.webelement.WebElement (session=\"a1df808bd1679e06da637577986a6d98\", element=\"dd833ca9-d4f2-48f3-a37b-bf6946a20933\")>]"
      ]
     },
     "execution_count": 56,
     "metadata": {},
     "output_type": "execute_result"
    }
   ],
   "source": [
    "companies_tags=driver.find_elements_by_xpath(\"//a[@class='subTitle ellipsis fleft']\")\n",
    "companies_tags"
   ]
  },
  {
   "cell_type": "code",
   "execution_count": 57,
   "metadata": {},
   "outputs": [
    {
     "data": {
      "text/plain": [
       "['GABA Consultancy services',\n",
       " 'GREAT LAKES E-LEARNING SERVICES PRIVATE LIMITED',\n",
       " 'ThoughtFocus Information Technologies Pvt Limited',\n",
       " 'Gaussian Networks Private Limited',\n",
       " 'IDC TECHNOLOGIES SOLUTIONS INDIA PVT LIMITED',\n",
       " 'IDC TECHNOLOGIES SOLUTIONS INDIA PVT LIMITED',\n",
       " 'Tata Consultancy Services Ltd.',\n",
       " 'Empower Retirement',\n",
       " 'Trigent Software',\n",
       " 'Trigent Software',\n",
       " 'Tata Consultancy Services Ltd.',\n",
       " 'TestingXperts Private Limited',\n",
       " 'Nike India',\n",
       " 'GlaxoSmithKline Pharmaceuticals Limited',\n",
       " 'SYREN TECHNOLOGIES PRIVATE LIMITED',\n",
       " 'Edge Executive Search Pvt. Ltd.',\n",
       " 'Morgan Stanley Advantage Services',\n",
       " 'McAfee Software (India) Pvt. Ltd',\n",
       " 'Gokaldas Exports Ltd',\n",
       " 'Walmart Labs']"
      ]
     },
     "execution_count": 57,
     "metadata": {},
     "output_type": "execute_result"
    }
   ],
   "source": [
    "company_names=[]\n",
    "for i in companies_tags:\n",
    "    company_names.append(i.text)\n",
    "company_names"
   ]
  },
  {
   "cell_type": "code",
   "execution_count": 58,
   "metadata": {},
   "outputs": [
    {
     "data": {
      "text/plain": [
       "[<selenium.webdriver.remote.webelement.WebElement (session=\"a1df808bd1679e06da637577986a6d98\", element=\"a930ce7b-02d0-4966-b5e6-b89f492bd334\")>,\n",
       " <selenium.webdriver.remote.webelement.WebElement (session=\"a1df808bd1679e06da637577986a6d98\", element=\"3900836f-48a4-441a-9a94-5b4360ef6385\")>,\n",
       " <selenium.webdriver.remote.webelement.WebElement (session=\"a1df808bd1679e06da637577986a6d98\", element=\"2b0cec0d-945c-4bf2-b77a-e37ac8dbe3df\")>,\n",
       " <selenium.webdriver.remote.webelement.WebElement (session=\"a1df808bd1679e06da637577986a6d98\", element=\"1bf08fb9-dbca-40e2-8048-e15ceff99658\")>,\n",
       " <selenium.webdriver.remote.webelement.WebElement (session=\"a1df808bd1679e06da637577986a6d98\", element=\"dd4cf30e-e536-4a9c-bea1-4c2fe5526d5f\")>,\n",
       " <selenium.webdriver.remote.webelement.WebElement (session=\"a1df808bd1679e06da637577986a6d98\", element=\"5f8a32d4-bd41-40ce-b36d-23859b8ed20e\")>,\n",
       " <selenium.webdriver.remote.webelement.WebElement (session=\"a1df808bd1679e06da637577986a6d98\", element=\"7231d70e-bae7-44d7-beb4-98acce2bfe31\")>,\n",
       " <selenium.webdriver.remote.webelement.WebElement (session=\"a1df808bd1679e06da637577986a6d98\", element=\"43f383eb-ba54-4d39-9a6c-1a121fd5ea02\")>,\n",
       " <selenium.webdriver.remote.webelement.WebElement (session=\"a1df808bd1679e06da637577986a6d98\", element=\"e6911b03-6569-412b-9f26-81d37f484f0d\")>,\n",
       " <selenium.webdriver.remote.webelement.WebElement (session=\"a1df808bd1679e06da637577986a6d98\", element=\"3ad346e8-1f5a-48a7-b234-16edcf266377\")>,\n",
       " <selenium.webdriver.remote.webelement.WebElement (session=\"a1df808bd1679e06da637577986a6d98\", element=\"de69d54b-b469-4f2d-a3dc-78c98cf28d68\")>,\n",
       " <selenium.webdriver.remote.webelement.WebElement (session=\"a1df808bd1679e06da637577986a6d98\", element=\"54ce4570-561e-415f-af9f-a222f688c3ae\")>,\n",
       " <selenium.webdriver.remote.webelement.WebElement (session=\"a1df808bd1679e06da637577986a6d98\", element=\"2859689a-7774-49ad-8e33-1612355ce17e\")>,\n",
       " <selenium.webdriver.remote.webelement.WebElement (session=\"a1df808bd1679e06da637577986a6d98\", element=\"79df586d-662c-49a8-8223-3c2dc8f89b77\")>,\n",
       " <selenium.webdriver.remote.webelement.WebElement (session=\"a1df808bd1679e06da637577986a6d98\", element=\"b014e00f-1de8-4d82-b6ab-4f681244a8d0\")>,\n",
       " <selenium.webdriver.remote.webelement.WebElement (session=\"a1df808bd1679e06da637577986a6d98\", element=\"67ea0572-4bf4-4efb-b79f-64d63ae5043e\")>,\n",
       " <selenium.webdriver.remote.webelement.WebElement (session=\"a1df808bd1679e06da637577986a6d98\", element=\"0ca4169e-cb8b-4643-84cb-e66c08b92871\")>,\n",
       " <selenium.webdriver.remote.webelement.WebElement (session=\"a1df808bd1679e06da637577986a6d98\", element=\"32f15ad2-8b13-4689-9fcf-2b89f9ef7fdd\")>,\n",
       " <selenium.webdriver.remote.webelement.WebElement (session=\"a1df808bd1679e06da637577986a6d98\", element=\"b05b0a1b-ebe7-4366-b71f-4212c7fb934a\")>,\n",
       " <selenium.webdriver.remote.webelement.WebElement (session=\"a1df808bd1679e06da637577986a6d98\", element=\"d802acd8-5c2b-412c-9322-032c91f5976b\")>]"
      ]
     },
     "execution_count": 58,
     "metadata": {},
     "output_type": "execute_result"
    }
   ],
   "source": [
    "location_tags=driver.find_elements_by_xpath('//li[@class=\"fleft grey-text br2 placeHolderLi location\"]')\n",
    "location_tags"
   ]
  },
  {
   "cell_type": "code",
   "execution_count": 59,
   "metadata": {},
   "outputs": [
    {
     "data": {
      "text/plain": [
       "['Hyderabad/Secunderabad, Chennai, Bangalore/Bengaluru',\n",
       " 'Gurgaon/Gurugram, Bangalore/Bengaluru',\n",
       " 'Bangalore/Bengaluru\\n(WFH during Covid)',\n",
       " 'Gurgaon/Gurugram, Bangalore/Bengaluru',\n",
       " 'Hyderabad/Secunderabad, Chennai, Bangalore/Bengaluru',\n",
       " 'Hyderabad/Secunderabad, Chennai, Bangalore/Bengaluru',\n",
       " 'Chennai, Bangalore/Bengaluru',\n",
       " 'Bangalore/Bengaluru',\n",
       " 'Bangalore/Bengaluru',\n",
       " 'Bangalore/Bengaluru',\n",
       " 'Chennai, Bangalore/Bengaluru',\n",
       " 'Chandigarh, Hyderabad/Secunderabad, Bangalore/Bengaluru',\n",
       " 'Bangalore/Bengaluru',\n",
       " 'Bangalore/Bengaluru',\n",
       " 'Hyderabad/Secunderabad, Chennai, Bangalore/Bengaluru\\n(WFH during Covid)',\n",
       " 'Pune, Bangalore/Bengaluru, Mumbai (All Areas)',\n",
       " 'Bangalore/Bengaluru',\n",
       " 'Bangalore/Bengaluru',\n",
       " 'Bangalore/Bengaluru',\n",
       " 'Bangalore/Bengaluru']"
      ]
     },
     "execution_count": 59,
     "metadata": {},
     "output_type": "execute_result"
    }
   ],
   "source": [
    "location_names=[]\n",
    "for i in location_tags:\n",
    "    location_names.append(i.text)\n",
    "location_names"
   ]
  },
  {
   "cell_type": "code",
   "execution_count": 62,
   "metadata": {},
   "outputs": [
    {
     "data": {
      "text/plain": [
       "[<selenium.webdriver.remote.webelement.WebElement (session=\"a1df808bd1679e06da637577986a6d98\", element=\"925fa053-194d-435b-9146-72b4aca7f241\")>,\n",
       " <selenium.webdriver.remote.webelement.WebElement (session=\"a1df808bd1679e06da637577986a6d98\", element=\"17df5689-f8f7-4b9d-b3ea-61996f84eced\")>,\n",
       " <selenium.webdriver.remote.webelement.WebElement (session=\"a1df808bd1679e06da637577986a6d98\", element=\"6d7725d1-64c5-4e1c-a89c-8585d891e8ff\")>,\n",
       " <selenium.webdriver.remote.webelement.WebElement (session=\"a1df808bd1679e06da637577986a6d98\", element=\"73c4d189-5dc4-4a6f-8563-2770d3f1d3df\")>,\n",
       " <selenium.webdriver.remote.webelement.WebElement (session=\"a1df808bd1679e06da637577986a6d98\", element=\"5f998592-4d31-495e-876c-6495f9b7e559\")>,\n",
       " <selenium.webdriver.remote.webelement.WebElement (session=\"a1df808bd1679e06da637577986a6d98\", element=\"adf1f22b-238a-4cec-bf1f-db985a7027c4\")>,\n",
       " <selenium.webdriver.remote.webelement.WebElement (session=\"a1df808bd1679e06da637577986a6d98\", element=\"65db4450-a6d5-4aef-9810-a92d695bc6fc\")>,\n",
       " <selenium.webdriver.remote.webelement.WebElement (session=\"a1df808bd1679e06da637577986a6d98\", element=\"6d7d0882-702a-4520-8c9c-7735f25793d8\")>,\n",
       " <selenium.webdriver.remote.webelement.WebElement (session=\"a1df808bd1679e06da637577986a6d98\", element=\"b3880c1d-7dee-491d-92ab-e3f473b8d5ac\")>,\n",
       " <selenium.webdriver.remote.webelement.WebElement (session=\"a1df808bd1679e06da637577986a6d98\", element=\"6db175f0-61d4-49c9-9567-231daf64209d\")>,\n",
       " <selenium.webdriver.remote.webelement.WebElement (session=\"a1df808bd1679e06da637577986a6d98\", element=\"f9e1bb09-2c52-4edb-a141-8a222ad1e16f\")>,\n",
       " <selenium.webdriver.remote.webelement.WebElement (session=\"a1df808bd1679e06da637577986a6d98\", element=\"9d00fb1b-d0e6-4666-9a69-f6adabd921ee\")>,\n",
       " <selenium.webdriver.remote.webelement.WebElement (session=\"a1df808bd1679e06da637577986a6d98\", element=\"6390c7c6-43ff-4615-9db0-59ae0d8422bf\")>,\n",
       " <selenium.webdriver.remote.webelement.WebElement (session=\"a1df808bd1679e06da637577986a6d98\", element=\"144abf8f-2633-487c-9e39-0d07b67ba648\")>,\n",
       " <selenium.webdriver.remote.webelement.WebElement (session=\"a1df808bd1679e06da637577986a6d98\", element=\"d7ef1a0a-19d9-4969-b600-c3cf2a9a4e9a\")>,\n",
       " <selenium.webdriver.remote.webelement.WebElement (session=\"a1df808bd1679e06da637577986a6d98\", element=\"c680cead-c458-47a3-a48b-c24b963b46f3\")>,\n",
       " <selenium.webdriver.remote.webelement.WebElement (session=\"a1df808bd1679e06da637577986a6d98\", element=\"83bb76c1-68b4-4289-bd5e-8cfabbec04d3\")>,\n",
       " <selenium.webdriver.remote.webelement.WebElement (session=\"a1df808bd1679e06da637577986a6d98\", element=\"012754d1-a43d-4925-9a01-c497c77ca9fb\")>,\n",
       " <selenium.webdriver.remote.webelement.WebElement (session=\"a1df808bd1679e06da637577986a6d98\", element=\"316429a3-7c2c-4c25-83da-1d63a95dacf0\")>,\n",
       " <selenium.webdriver.remote.webelement.WebElement (session=\"a1df808bd1679e06da637577986a6d98\", element=\"04180a60-6480-4062-a827-21c2ba2524ed\")>]"
      ]
     },
     "execution_count": 62,
     "metadata": {},
     "output_type": "execute_result"
    }
   ],
   "source": [
    "experience_tags=driver.find_elements_by_xpath('//li[@class=\"fleft grey-text br2 placeHolderLi experience\"]')\n",
    "experience_tags"
   ]
  },
  {
   "cell_type": "code",
   "execution_count": 63,
   "metadata": {},
   "outputs": [
    {
     "data": {
      "text/plain": [
       "['0-0 Yrs',\n",
       " '1-4 Yrs',\n",
       " '5-10 Yrs',\n",
       " '3-5 Yrs',\n",
       " '3-8 Yrs',\n",
       " '3-8 Yrs',\n",
       " '6-11 Yrs',\n",
       " '2-6 Yrs',\n",
       " '5-10 Yrs',\n",
       " '5-10 Yrs',\n",
       " '6-11 Yrs',\n",
       " '3-8 Yrs',\n",
       " '1-6 Yrs',\n",
       " '4-8 Yrs',\n",
       " '4-9 Yrs',\n",
       " '0-2 Yrs',\n",
       " '2-5 Yrs',\n",
       " '6-8 Yrs',\n",
       " '0-3 Yrs',\n",
       " '8-10 Yrs']"
      ]
     },
     "execution_count": 63,
     "metadata": {},
     "output_type": "execute_result"
    }
   ],
   "source": [
    "experience_job=[]\n",
    "for i in experience_tags:\n",
    "    experience_job.append(i.text)\n",
    "experience_job"
   ]
  },
  {
   "cell_type": "code",
   "execution_count": 64,
   "metadata": {},
   "outputs": [
    {
     "name": "stdout",
     "output_type": "stream",
     "text": [
      "20 20 20 20\n"
     ]
    }
   ],
   "source": [
    "print(len(job_titles),len(company_names),len(experience_job),len(location_names))"
   ]
  },
  {
   "cell_type": "code",
   "execution_count": 67,
   "metadata": {},
   "outputs": [],
   "source": [
    "import pandas as pd"
   ]
  },
  {
   "cell_type": "code",
   "execution_count": null,
   "metadata": {},
   "outputs": [],
   "source": []
  },
  {
   "cell_type": "code",
   "execution_count": 68,
   "metadata": {},
   "outputs": [
    {
     "data": {
      "text/html": [
       "<div>\n",
       "<style scoped>\n",
       "    .dataframe tbody tr th:only-of-type {\n",
       "        vertical-align: middle;\n",
       "    }\n",
       "\n",
       "    .dataframe tbody tr th {\n",
       "        vertical-align: top;\n",
       "    }\n",
       "\n",
       "    .dataframe thead th {\n",
       "        text-align: right;\n",
       "    }\n",
       "</style>\n",
       "<table border=\"1\" class=\"dataframe\">\n",
       "  <thead>\n",
       "    <tr style=\"text-align: right;\">\n",
       "      <th></th>\n",
       "      <th>Titles</th>\n",
       "      <th>Company</th>\n",
       "      <th>Experience</th>\n",
       "      <th>Location</th>\n",
       "    </tr>\n",
       "  </thead>\n",
       "  <tbody>\n",
       "    <tr>\n",
       "      <th>0</th>\n",
       "      <td>Data Analyst / Data Scientist / Business Analy...</td>\n",
       "      <td>GABA Consultancy services</td>\n",
       "      <td>0-0 Yrs</td>\n",
       "      <td>Hyderabad/Secunderabad, Chennai, Bangalore/Ben...</td>\n",
       "    </tr>\n",
       "    <tr>\n",
       "      <th>1</th>\n",
       "      <td>Business Data Analyst</td>\n",
       "      <td>GREAT LAKES E-LEARNING SERVICES PRIVATE LIMITED</td>\n",
       "      <td>1-4 Yrs</td>\n",
       "      <td>Gurgaon/Gurugram, Bangalore/Bengaluru</td>\n",
       "    </tr>\n",
       "    <tr>\n",
       "      <th>2</th>\n",
       "      <td>Business Data Analyst ( Mortgage Exp )</td>\n",
       "      <td>ThoughtFocus Information Technologies Pvt Limited</td>\n",
       "      <td>5-10 Yrs</td>\n",
       "      <td>Bangalore/Bengaluru\\n(WFH during Covid)</td>\n",
       "    </tr>\n",
       "    <tr>\n",
       "      <th>3</th>\n",
       "      <td>Senior Data Analyst</td>\n",
       "      <td>Gaussian Networks Private Limited</td>\n",
       "      <td>3-5 Yrs</td>\n",
       "      <td>Gurgaon/Gurugram, Bangalore/Bengaluru</td>\n",
       "    </tr>\n",
       "    <tr>\n",
       "      <th>4</th>\n",
       "      <td>Business Analyst &amp; Data Analyst</td>\n",
       "      <td>IDC TECHNOLOGIES SOLUTIONS INDIA PVT LIMITED</td>\n",
       "      <td>3-8 Yrs</td>\n",
       "      <td>Hyderabad/Secunderabad, Chennai, Bangalore/Ben...</td>\n",
       "    </tr>\n",
       "    <tr>\n",
       "      <th>5</th>\n",
       "      <td>Business Analyst &amp; Data Analyst</td>\n",
       "      <td>IDC TECHNOLOGIES SOLUTIONS INDIA PVT LIMITED</td>\n",
       "      <td>3-8 Yrs</td>\n",
       "      <td>Hyderabad/Secunderabad, Chennai, Bangalore/Ben...</td>\n",
       "    </tr>\n",
       "    <tr>\n",
       "      <th>6</th>\n",
       "      <td>Tcs Hiring For Senior Data Analyst (bfsi domain)</td>\n",
       "      <td>Tata Consultancy Services Ltd.</td>\n",
       "      <td>6-11 Yrs</td>\n",
       "      <td>Chennai, Bangalore/Bengaluru</td>\n",
       "    </tr>\n",
       "    <tr>\n",
       "      <th>7</th>\n",
       "      <td>Sr Analyst Data Reptg&amp;Business Analytics</td>\n",
       "      <td>Empower Retirement</td>\n",
       "      <td>2-6 Yrs</td>\n",
       "      <td>Bangalore/Bengaluru</td>\n",
       "    </tr>\n",
       "    <tr>\n",
       "      <th>8</th>\n",
       "      <td>Business Data Analyst</td>\n",
       "      <td>Trigent Software</td>\n",
       "      <td>5-10 Yrs</td>\n",
       "      <td>Bangalore/Bengaluru</td>\n",
       "    </tr>\n",
       "    <tr>\n",
       "      <th>9</th>\n",
       "      <td>Business Data Analyst</td>\n",
       "      <td>Trigent Software</td>\n",
       "      <td>5-10 Yrs</td>\n",
       "      <td>Bangalore/Bengaluru</td>\n",
       "    </tr>\n",
       "  </tbody>\n",
       "</table>\n",
       "</div>"
      ],
      "text/plain": [
       "                                              Titles  \\\n",
       "0  Data Analyst / Data Scientist / Business Analy...   \n",
       "1                              Business Data Analyst   \n",
       "2             Business Data Analyst ( Mortgage Exp )   \n",
       "3                                Senior Data Analyst   \n",
       "4                    Business Analyst & Data Analyst   \n",
       "5                    Business Analyst & Data Analyst   \n",
       "6   Tcs Hiring For Senior Data Analyst (bfsi domain)   \n",
       "7           Sr Analyst Data Reptg&Business Analytics   \n",
       "8                              Business Data Analyst   \n",
       "9                              Business Data Analyst   \n",
       "\n",
       "                                             Company Experience  \\\n",
       "0                          GABA Consultancy services    0-0 Yrs   \n",
       "1    GREAT LAKES E-LEARNING SERVICES PRIVATE LIMITED    1-4 Yrs   \n",
       "2  ThoughtFocus Information Technologies Pvt Limited   5-10 Yrs   \n",
       "3                  Gaussian Networks Private Limited    3-5 Yrs   \n",
       "4       IDC TECHNOLOGIES SOLUTIONS INDIA PVT LIMITED    3-8 Yrs   \n",
       "5       IDC TECHNOLOGIES SOLUTIONS INDIA PVT LIMITED    3-8 Yrs   \n",
       "6                     Tata Consultancy Services Ltd.   6-11 Yrs   \n",
       "7                                 Empower Retirement    2-6 Yrs   \n",
       "8                                   Trigent Software   5-10 Yrs   \n",
       "9                                   Trigent Software   5-10 Yrs   \n",
       "\n",
       "                                            Location  \n",
       "0  Hyderabad/Secunderabad, Chennai, Bangalore/Ben...  \n",
       "1              Gurgaon/Gurugram, Bangalore/Bengaluru  \n",
       "2            Bangalore/Bengaluru\\n(WFH during Covid)  \n",
       "3              Gurgaon/Gurugram, Bangalore/Bengaluru  \n",
       "4  Hyderabad/Secunderabad, Chennai, Bangalore/Ben...  \n",
       "5  Hyderabad/Secunderabad, Chennai, Bangalore/Ben...  \n",
       "6                       Chennai, Bangalore/Bengaluru  \n",
       "7                                Bangalore/Bengaluru  \n",
       "8                                Bangalore/Bengaluru  \n",
       "9                                Bangalore/Bengaluru  "
      ]
     },
     "execution_count": 68,
     "metadata": {},
     "output_type": "execute_result"
    }
   ],
   "source": [
    "job=pd.DataFrame({})\n",
    "job['Titles']=job_titles[:10]\n",
    "job['Company']=company_names[:10]\n",
    "job['Experience']=experience_job[:10]\n",
    "job['Location']=location_names[:10]\n",
    "job"
   ]
  },
  {
   "cell_type": "code",
   "execution_count": null,
   "metadata": {},
   "outputs": [],
   "source": []
  },
  {
   "cell_type": "markdown",
   "metadata": {},
   "source": [
    "2:Write a python program to scrape data for “Data Scientist” Job position in “Bangalore” location. You have to scrape the job-title, job-location, company_name, full job-description. You have to scrape first 10 jobs data. This task will be done in following steps:\n",
    "\n",
    "1.first get the webpage https://www.naukri.com/\n",
    "2.Enter “Data Scientist” in “Skill,Designations,Companies” field and enter “Bangalore” in “enter the location” field.\n",
    "3.Then click the search button.\n",
    "4.Then scrape the data for the first 10 jobs results you get.\n",
    "5.Finally create a dataframe of the scraped data. Note- 1. All of the above steps have to be done in code. No step is to be done"
   ]
  },
  {
   "cell_type": "code",
   "execution_count": 70,
   "metadata": {},
   "outputs": [],
   "source": [
    "options = webdriver.ChromeOptions()\n",
    "\n",
    "options.add_argument(\"start-maximized\")\n",
    "\n",
    "driver = uc.Chrome(executable_path='chromedriver.exe', options=options)\n",
    "\n",
    "keyword = \"https://www.naukri.com/\"\n",
    "\n",
    "driver.get(keyword)\n"
   ]
  },
  {
   "cell_type": "code",
   "execution_count": 73,
   "metadata": {},
   "outputs": [
    {
     "data": {
      "text/plain": [
       "<selenium.webdriver.remote.webelement.WebElement (session=\"8193eaad84264ef7479d47a45981ac53\", element=\"ebdab2a2-9f23-4c74-bf35-6bc5d4b55314\")>"
      ]
     },
     "execution_count": 73,
     "metadata": {},
     "output_type": "execute_result"
    }
   ],
   "source": [
    "search_job1=driver.find_element_by_xpath('//input[@class=\"sugInp\"]')\n",
    "search_job1"
   ]
  },
  {
   "cell_type": "code",
   "execution_count": 74,
   "metadata": {},
   "outputs": [],
   "source": [
    "search_job1.send_keys(\"Data Scientist\")"
   ]
  },
  {
   "cell_type": "code",
   "execution_count": 75,
   "metadata": {},
   "outputs": [
    {
     "data": {
      "text/plain": [
       "<selenium.webdriver.remote.webelement.WebElement (session=\"8193eaad84264ef7479d47a45981ac53\", element=\"ca2ce3a6-10f8-4272-996e-cffdee72c543\")>"
      ]
     },
     "execution_count": 75,
     "metadata": {},
     "output_type": "execute_result"
    }
   ],
   "source": [
    "search_loc=driver.find_element_by_xpath('//input[@name=\"location\"]')\n",
    "search_loc"
   ]
  },
  {
   "cell_type": "code",
   "execution_count": 76,
   "metadata": {},
   "outputs": [],
   "source": [
    "search_loc.send_keys(\"Banglore\")"
   ]
  },
  {
   "cell_type": "code",
   "execution_count": 77,
   "metadata": {},
   "outputs": [
    {
     "data": {
      "text/plain": [
       "<selenium.webdriver.remote.webelement.WebElement (session=\"8193eaad84264ef7479d47a45981ac53\", element=\"a7630bd7-6739-4e11-80f5-27fd92f60806\")>"
      ]
     },
     "execution_count": 77,
     "metadata": {},
     "output_type": "execute_result"
    }
   ],
   "source": [
    "search_btn=driver.find_element_by_xpath('//button[@class=\"btn\"]')\n",
    "search_btn"
   ]
  },
  {
   "cell_type": "code",
   "execution_count": 78,
   "metadata": {},
   "outputs": [],
   "source": [
    "search_btn.click()"
   ]
  },
  {
   "cell_type": "code",
   "execution_count": 81,
   "metadata": {},
   "outputs": [
    {
     "data": {
      "text/plain": [
       "[<selenium.webdriver.remote.webelement.WebElement (session=\"8193eaad84264ef7479d47a45981ac53\", element=\"11736b9d-9d2a-43ac-aaee-9fabdd964b89\")>,\n",
       " <selenium.webdriver.remote.webelement.WebElement (session=\"8193eaad84264ef7479d47a45981ac53\", element=\"1f615ac7-99b2-4bbd-82da-0495ba52e14a\")>,\n",
       " <selenium.webdriver.remote.webelement.WebElement (session=\"8193eaad84264ef7479d47a45981ac53\", element=\"b912cd6c-4a70-4225-8d1f-514b3d44511f\")>,\n",
       " <selenium.webdriver.remote.webelement.WebElement (session=\"8193eaad84264ef7479d47a45981ac53\", element=\"8b0fa65f-4c44-4bef-8bcf-bf8a36c1c9e4\")>,\n",
       " <selenium.webdriver.remote.webelement.WebElement (session=\"8193eaad84264ef7479d47a45981ac53\", element=\"9ad2129a-c3a7-4b6f-af47-41684ad519a4\")>,\n",
       " <selenium.webdriver.remote.webelement.WebElement (session=\"8193eaad84264ef7479d47a45981ac53\", element=\"c2ef5650-b73b-43c7-ab5e-61f10ab9bc04\")>,\n",
       " <selenium.webdriver.remote.webelement.WebElement (session=\"8193eaad84264ef7479d47a45981ac53\", element=\"e4f19ae5-f379-4b0f-8191-c303777f4cc6\")>,\n",
       " <selenium.webdriver.remote.webelement.WebElement (session=\"8193eaad84264ef7479d47a45981ac53\", element=\"9792b6c7-35c8-4c5c-8c2c-bc182b7dfbe1\")>,\n",
       " <selenium.webdriver.remote.webelement.WebElement (session=\"8193eaad84264ef7479d47a45981ac53\", element=\"eb15d91b-7e9d-4176-8d58-93bb01ae9a58\")>,\n",
       " <selenium.webdriver.remote.webelement.WebElement (session=\"8193eaad84264ef7479d47a45981ac53\", element=\"822386cf-d196-4b12-a2c0-467feea60f3d\")>,\n",
       " <selenium.webdriver.remote.webelement.WebElement (session=\"8193eaad84264ef7479d47a45981ac53\", element=\"5aec33bf-5ed6-4bf9-a0e8-8a1858ed436e\")>,\n",
       " <selenium.webdriver.remote.webelement.WebElement (session=\"8193eaad84264ef7479d47a45981ac53\", element=\"4f4b67c8-fc51-4652-a559-870649220e9c\")>,\n",
       " <selenium.webdriver.remote.webelement.WebElement (session=\"8193eaad84264ef7479d47a45981ac53\", element=\"7c2214af-fe71-49e3-b1d9-3a55aa1b858e\")>,\n",
       " <selenium.webdriver.remote.webelement.WebElement (session=\"8193eaad84264ef7479d47a45981ac53\", element=\"16f1e993-ba3e-42ca-aa23-01415e908f69\")>,\n",
       " <selenium.webdriver.remote.webelement.WebElement (session=\"8193eaad84264ef7479d47a45981ac53\", element=\"407b214e-8ef8-47ef-96e7-43f69e09d910\")>,\n",
       " <selenium.webdriver.remote.webelement.WebElement (session=\"8193eaad84264ef7479d47a45981ac53\", element=\"afaf166a-3e91-424a-b10f-0044d239c889\")>,\n",
       " <selenium.webdriver.remote.webelement.WebElement (session=\"8193eaad84264ef7479d47a45981ac53\", element=\"2be89f6e-cdb1-439b-941e-abdafddad48e\")>,\n",
       " <selenium.webdriver.remote.webelement.WebElement (session=\"8193eaad84264ef7479d47a45981ac53\", element=\"8147b36a-42aa-424e-89d1-7960a45a2ce6\")>,\n",
       " <selenium.webdriver.remote.webelement.WebElement (session=\"8193eaad84264ef7479d47a45981ac53\", element=\"6d6d8095-bca6-4a8a-b8ad-8a5f37df9851\")>,\n",
       " <selenium.webdriver.remote.webelement.WebElement (session=\"8193eaad84264ef7479d47a45981ac53\", element=\"9cd1c06a-0e14-454f-98ff-1082177d5c54\")>]"
      ]
     },
     "execution_count": 81,
     "metadata": {},
     "output_type": "execute_result"
    }
   ],
   "source": [
    "title_name=driver.find_elements_by_xpath('//a[@class=\"title fw500 ellipsis\"]')\n",
    "title_name"
   ]
  },
  {
   "cell_type": "code",
   "execution_count": 82,
   "metadata": {},
   "outputs": [
    {
     "data": {
      "text/plain": [
       "['Hiring For Senior Data Scientist',\n",
       " 'Senior Data Scientist',\n",
       " 'Data Scientist/Sr. Data Scientist',\n",
       " 'Senior Data Scientist (MINT)',\n",
       " 'Senior Data Scientist',\n",
       " 'Data Scientist - NLP',\n",
       " 'Data Scientist',\n",
       " 'Data Scientist',\n",
       " 'Data Scientist',\n",
       " 'Data Analyst/ Data Scientist',\n",
       " 'Data Analyst / Data Scientist / Business Analytics / Fresher / MNC OSC',\n",
       " 'Data Scientist',\n",
       " 'Data Scientist',\n",
       " 'Data Scientist',\n",
       " 'Data Scientist - I / II',\n",
       " 'Hiring For Data Scientist',\n",
       " 'Senior Data Scientist',\n",
       " 'Senior Data Scientist',\n",
       " 'Sr Data Scientist',\n",
       " 'Sr Data Scientist']"
      ]
     },
     "execution_count": 82,
     "metadata": {},
     "output_type": "execute_result"
    }
   ],
   "source": [
    "job_title=[]\n",
    "for i in title_name:\n",
    "    job_title.append(i.text)\n",
    "job_title"
   ]
  },
  {
   "cell_type": "code",
   "execution_count": 83,
   "metadata": {},
   "outputs": [
    {
     "data": {
      "text/plain": [
       "[<selenium.webdriver.remote.webelement.WebElement (session=\"8193eaad84264ef7479d47a45981ac53\", element=\"6466f561-21de-4e6a-9333-e35d9fc86b96\")>,\n",
       " <selenium.webdriver.remote.webelement.WebElement (session=\"8193eaad84264ef7479d47a45981ac53\", element=\"8552a9c6-32ea-49dd-b117-06f9a40133fc\")>,\n",
       " <selenium.webdriver.remote.webelement.WebElement (session=\"8193eaad84264ef7479d47a45981ac53\", element=\"6a83eb62-116f-42ec-90be-e62e551b528e\")>,\n",
       " <selenium.webdriver.remote.webelement.WebElement (session=\"8193eaad84264ef7479d47a45981ac53\", element=\"7a554027-c568-4621-bb8b-7ac9e1f6bd45\")>,\n",
       " <selenium.webdriver.remote.webelement.WebElement (session=\"8193eaad84264ef7479d47a45981ac53\", element=\"5724b1e8-ca5b-4752-8ec1-912ad04a3920\")>,\n",
       " <selenium.webdriver.remote.webelement.WebElement (session=\"8193eaad84264ef7479d47a45981ac53\", element=\"6a31e781-423b-468f-97e4-99ba8f1a8cb8\")>,\n",
       " <selenium.webdriver.remote.webelement.WebElement (session=\"8193eaad84264ef7479d47a45981ac53\", element=\"fcc1ddef-2890-443b-b633-c56a8abb470d\")>,\n",
       " <selenium.webdriver.remote.webelement.WebElement (session=\"8193eaad84264ef7479d47a45981ac53\", element=\"861e8912-6567-45a9-bd56-19da9a8ea257\")>,\n",
       " <selenium.webdriver.remote.webelement.WebElement (session=\"8193eaad84264ef7479d47a45981ac53\", element=\"cdb32f52-3bf1-44c9-b133-7d4ce8560eb7\")>,\n",
       " <selenium.webdriver.remote.webelement.WebElement (session=\"8193eaad84264ef7479d47a45981ac53\", element=\"ccc6a6b0-ec66-407d-abb5-e0b8a7ad487d\")>,\n",
       " <selenium.webdriver.remote.webelement.WebElement (session=\"8193eaad84264ef7479d47a45981ac53\", element=\"09204a06-fa1d-4797-ae32-c4e43b722229\")>,\n",
       " <selenium.webdriver.remote.webelement.WebElement (session=\"8193eaad84264ef7479d47a45981ac53\", element=\"abf05b7f-39cd-42e5-9c6d-a9ff6dd31c80\")>,\n",
       " <selenium.webdriver.remote.webelement.WebElement (session=\"8193eaad84264ef7479d47a45981ac53\", element=\"639c14f9-5077-43ba-b0b7-c538bdd8aa97\")>,\n",
       " <selenium.webdriver.remote.webelement.WebElement (session=\"8193eaad84264ef7479d47a45981ac53\", element=\"e4f7cafb-d864-43b9-9c90-c2647aad8d38\")>,\n",
       " <selenium.webdriver.remote.webelement.WebElement (session=\"8193eaad84264ef7479d47a45981ac53\", element=\"5a6f6c65-a66e-40c6-95cf-836bd1b38290\")>,\n",
       " <selenium.webdriver.remote.webelement.WebElement (session=\"8193eaad84264ef7479d47a45981ac53\", element=\"4887e741-0546-432f-a5ae-a05b5fb0f2d5\")>,\n",
       " <selenium.webdriver.remote.webelement.WebElement (session=\"8193eaad84264ef7479d47a45981ac53\", element=\"4c0eacca-1639-4e5c-85d6-8e217b585b61\")>,\n",
       " <selenium.webdriver.remote.webelement.WebElement (session=\"8193eaad84264ef7479d47a45981ac53\", element=\"0b367c05-f356-4c15-a02f-10ee57d9538a\")>,\n",
       " <selenium.webdriver.remote.webelement.WebElement (session=\"8193eaad84264ef7479d47a45981ac53\", element=\"73fe2c8e-c028-4c76-a7f6-11691a4d65a1\")>,\n",
       " <selenium.webdriver.remote.webelement.WebElement (session=\"8193eaad84264ef7479d47a45981ac53\", element=\"7cf53564-d001-45b6-bc97-947b9f0487f9\")>]"
      ]
     },
     "execution_count": 83,
     "metadata": {},
     "output_type": "execute_result"
    }
   ],
   "source": [
    "exp_tag=driver.find_elements_by_xpath('//li[@class=\"fleft grey-text br2 placeHolderLi experience\"]')\n",
    "exp_tag"
   ]
  },
  {
   "cell_type": "code",
   "execution_count": 84,
   "metadata": {},
   "outputs": [
    {
     "data": {
      "text/plain": [
       "['5-10 Yrs',\n",
       " '4-8 Yrs',\n",
       " '2-5 Yrs',\n",
       " '5-9 Yrs',\n",
       " '7-12 Yrs',\n",
       " '11-15 Yrs',\n",
       " '3-8 Yrs',\n",
       " '4-8 Yrs',\n",
       " '4-8 Yrs',\n",
       " '5-10 Yrs',\n",
       " '0-0 Yrs',\n",
       " '5-7 Yrs',\n",
       " '2-7 Yrs',\n",
       " '2-4 Yrs',\n",
       " '2-3 Yrs',\n",
       " '3-8 Yrs',\n",
       " '6-10 Yrs',\n",
       " '7-12 Yrs',\n",
       " '6-8 Yrs',\n",
       " '6-8 Yrs']"
      ]
     },
     "execution_count": 84,
     "metadata": {},
     "output_type": "execute_result"
    }
   ],
   "source": [
    "experience_job=[]\n",
    "for i in exp_tag:\n",
    "    experience_job.append(i.text)\n",
    "experience_job"
   ]
  },
  {
   "cell_type": "code",
   "execution_count": 96,
   "metadata": {},
   "outputs": [
    {
     "data": {
      "text/plain": [
       "['https://www.naukri.com/job-listings-hiring-for-senior-data-scientist-tata-consultancy-services-ltd-kolkata-hyderabad-secunderabad-pune-chennai-bangalore-bengaluru-delhi-ncr-5-to-10-years-140921004755?src=jobsearchDesk&sid=16317166384507278&xp=1&px=1',\n",
       " 'https://www.naukri.com/job-listings-senior-data-scientist-infrrd-private-limited-bangalore-bengaluru-4-to-8-years-150921500589?src=jobsearchDesk&sid=16317166384507278&xp=2&px=1',\n",
       " 'https://www.naukri.com/job-listings-data-scientist-sr-data-scientist-valiance-analytics-private-limited-new-delhi-bangalore-bengaluru-mumbai-all-areas-2-to-5-years-150921001571?src=jobsearchDesk&sid=16317166384507278&xp=3&px=1',\n",
       " 'https://www.naukri.com/job-listings-senior-data-scientist-mint-walmart-labs-bangalore-bengaluru-5-to-9-years-140921500535?src=jobsearchDesk&sid=16317166384507278&xp=4&px=1',\n",
       " 'https://www.naukri.com/job-listings-senior-data-scientist-consulttrinity-services-private-limited-bangalore-bengaluru-7-to-12-years-140921009208?src=jobsearchDesk&sid=16317166384507278&xp=5&px=1',\n",
       " 'https://www.naukri.com/job-listings-data-scientist-nlp-opening-with-an-saas-product-company-bangalore-bengaluru-hyderabad-9513-11-to-15-years-140921009290?src=jobsearchDesk&sid=16317166384507278&xp=6&px=1',\n",
       " 'https://www.naukri.com/job-listings-data-scientist-brillio-technologies-pvt-ltd-bangalore-bengaluru-3-to-8-years-130921905402?src=jobsearchDesk&sid=16317166384507278&xp=7&px=1',\n",
       " 'https://www.naukri.com/job-listings-data-scientist-allegis-services-india-pvt-ltd-bangalore-bengaluru-4-to-8-years-130921603395?src=jobsearchDesk&sid=16317166384507278&xp=8&px=1',\n",
       " 'https://www.naukri.com/job-listings-data-scientist-allegis-services-india-pvt-ltd-bangalore-bengaluru-4-to-8-years-130921003393?src=jobsearchDesk&sid=16317166384507278&xp=9&px=1',\n",
       " 'https://www.naukri.com/job-listings-data-analyst-data-scientist-srs-business-solutions-india-pvt-ltd-bangalore-bengaluru-5-to-10-years-150921002583?src=jobsearchDesk&sid=16317166384507278&xp=10&px=1',\n",
       " 'https://www.naukri.com/job-listings-data-analyst-data-scientist-business-analytics-fresher-mnc-osc-gaba-consultancy-services-hyderabad-secunderabad-chennai-bangalore-bengaluru-0-to-0-years-140921000261?src=jobsearchDesk&sid=16317166384507278&xp=11&px=1',\n",
       " 'https://www.naukri.com/job-listings-data-scientist-atg-business-solutions-private-limited-bangalore-bengaluru-5-to-7-years-150921007902?src=jobsearchDesk&sid=16317166384507278&xp=12&px=1',\n",
       " 'https://www.naukri.com/job-listings-data-scientist-novo-nordisk-india-bangalore-bengaluru-2-to-7-years-150921500555?src=jobsearchDesk&sid=16317166384507278&xp=13&px=1',\n",
       " 'https://www.naukri.com/job-listings-data-scientist-quin-bay-technologies-private-limited-bangalore-bengaluru-2-to-4-years-140921005795?src=jobsearchDesk&sid=16317166384507278&xp=14&px=1',\n",
       " 'https://www.naukri.com/job-listings-data-scientist-i-ii-sharechat-bangalore-bengaluru-2-to-3-years-130921500157?src=jobsearchDesk&sid=16317166384507278&xp=15&px=1',\n",
       " 'https://www.naukri.com/job-listings-hiring-for-data-scientist-tata-consultancy-services-chennai-bangalore-bengaluru-mumbai-all-areas-3-to-8-years-110921000464?src=jobsearchDesk&sid=16317166384507278&xp=16&px=1',\n",
       " 'https://www.naukri.com/job-listings-senior-data-scientist-walmart-labs-bangalore-bengaluru-6-to-10-years-090921501063?src=jobsearchDesk&sid=16317166384507278&xp=17&px=1',\n",
       " 'https://www.naukri.com/job-listings-senior-data-scientist-airbnb-bangalore-bengaluru-7-to-12-years-080921500017?src=jobsearchDesk&sid=16317166384507278&xp=18&px=1',\n",
       " 'https://www.naukri.com/job-listings-sr-data-scientist-ibm-india-pvt-limited-bengaluru-bangalore-6-to-8-years-010921906637?src=jobsearchDesk&sid=16317166384507278&xp=19&px=1',\n",
       " 'https://www.naukri.com/job-listings-sr-data-scientist-ibm-india-pvt-limited-bangalore-bengaluru-6-to-8-years-010921906105?src=jobsearchDesk&sid=16317166384507278&xp=20&px=1']"
      ]
     },
     "execution_count": 96,
     "metadata": {},
     "output_type": "execute_result"
    }
   ],
   "source": [
    "urls=[]\n",
    "for i in driver.find_elements_by_xpath('//a[@class=\"title fw500 ellipsis\"]'):\n",
    "    urls.append(i.get_attribute(\"href\"))\n",
    "urls\n"
   ]
  },
  {
   "cell_type": "code",
   "execution_count": 97,
   "metadata": {},
   "outputs": [
    {
     "data": {
      "text/plain": [
       "20"
      ]
     },
     "execution_count": 97,
     "metadata": {},
     "output_type": "execute_result"
    }
   ],
   "source": [
    "len(urls)"
   ]
  },
  {
   "cell_type": "code",
   "execution_count": 110,
   "metadata": {},
   "outputs": [],
   "source": [
    "from time import sleep"
   ]
  },
  {
   "cell_type": "code",
   "execution_count": 111,
   "metadata": {},
   "outputs": [],
   "source": [
    "import time"
   ]
  },
  {
   "cell_type": "code",
   "execution_count": 114,
   "metadata": {},
   "outputs": [],
   "source": [
    "full_job_description=[]\n",
    "for i in urls[:20]:\n",
    "    driver.get(i)\n",
    "    time.sleep(2)\n",
    "    try:\n",
    "        job_desc=driver.find_element_by_xpath('//section[@class=\"getJobDescription JD av_textblock_section\"]')\n",
    "        full_job_description.append(job_desc.text)\n",
    "    except:\n",
    "        full_job_description.append('--')"
   ]
  },
  {
   "cell_type": "code",
   "execution_count": 113,
   "metadata": {},
   "outputs": [
    {
     "name": "stdout",
     "output_type": "stream",
     "text": [
      "20\n"
     ]
    }
   ],
   "source": [
    "print(len(job_description))"
   ]
  },
  {
   "cell_type": "code",
   "execution_count": 115,
   "metadata": {},
   "outputs": [
    {
     "data": {
      "text/plain": [
       "['--',\n",
       " '--',\n",
       " '--',\n",
       " '--',\n",
       " '--',\n",
       " '--',\n",
       " '--',\n",
       " '--',\n",
       " \"Job Description\\n\\nMust Have skill sets:\\n\\nExcellent knowledge of various statistical / Machine Learning / Deep Learning algorithms such as Feature Engineering/selection, Time series, Regression, Classification, Clustering, Recommendation Engine, Anomaly Detection, NLP, Reinforcement Learning etc.)\\n4 to 8 years of hands-on expertise in developing data science models by applying above mentioned algorithms on structured / text data, using R / Python\\nProficient in writing optimized query using any one of the DB query language (Hive/Impala/SQL/MongoDB etc.). Knowledge of big data is essential\\n\\nGood to Have skill sets:\\n\\nVisualization using any one of the technologies (Tableau, PowerBI, RShiny, matplotlib, ggplot etc.). In case of lack of skills, eagerness to learn is must\\nInsight Generation and Story telling to end consumers\\nExperience across end to end data science project life cycle (use case framing, data collection, data exploration, design of experiments, model development, selection and deployment, post production support)\\nSelf-motivated to learn different techniques / technologies, as per the project's need and go extra mile to bring customer delight\\n\\nEducational Qualification:\\n\\nAny of the following:\\n• Bachelors in Engineering / MCA\\n• Masters in Data Science/ Computer Applications/ Statistics/ Mathematics/ Economics/ Ops Research/ Other quantitative disciplines\\n• MBA\\n\\nJob Responsibilities:\\nOwn and execute end to end delivery of one or more than one data science model development, as per requirement provided by project/product manager\\nUnderstand business requirements from Product Managers/Business Users\\nExtract data from multiple data sources using Hadoop / SQL\\nDevelop, Validate and Operationalize predictive models using appropriate variables and ML/deep learning techniques\\nPerform ad-hoc deep dive analysis and generate actionable insights\\nCreate technical documentation and provide post-production support for a time-bound period\\nCommunicate the results to technical as well as business stakeholders across different hierarchies\",\n",
       " '--',\n",
       " '--',\n",
       " '--',\n",
       " '--',\n",
       " '--',\n",
       " '--',\n",
       " '--',\n",
       " '--',\n",
       " '--',\n",
       " 'Job Description\\nIntroduction\\nAs a Data Scientist at IBM, you will help transform our clients data into tangible business value by analyzing information, communicating outcomes and collaborating on product development. Work with Best in Class open source and visual tools, along with the most flexible and scalable deployment options. Whether it s investigating patient trends or weather patterns, you will work to solve real world problems for the industries transforming how we live.\\n\\nYour Role and Responsibilities\\nData Science Consultants are adept across data science techniques using open source tools to solve varied use cases for our clients\\nThey work to build strong, enduring relationships with client staff based on innovation, trust and service excellence.\\nThey are accountable for successful delivery of complex data science engagements adhering to client s requirements and timelines\\nThey learn constantly and lead adoption of emerging technologies and approaches in their processes benefiting the client & IBM overall.\\n\\nRequired Technical and Professional Expertise\\nBTech (with 8 years of relevant experience) or Masters (with 6 years of relevant experience) in Operations Research, Applied Mathematics/ Statistics/ Econometrics, Electrical or Systems Engineering, Physics or similar highly quantitative field\\nStrong ability to transform business requirements into data science formulations and implement the solutions in an efficient and scalable fashion\\nSound understanding of data science concepts, model development & performance tuning processes as well as coding, version control and CI/CD best practices\\nDemonstrated extensive experience in building and deploying production quality models in a live digital environment using data pipelines and ML Ops frameworks including handling model drift, retraining and version control lifecycle\\nHighly skilled in Python and various data science related libraries of Python including TensorFlow, Keras, Sci-Kit Lean, Pandas, Numpy and PySpark\\nExperience in Convolutional Neural Network / Computer Vision projects using TensorFlow, PyTorch and leveraging public / open-source libraries (VGG16, ImageNet, YOLO, OpenCV, etc) as well as ability to tweak, modify these CNN architectures when required for a specific business problem.\\nDemonstrated ability of scoping, executing and scaling multiple data science deliverables on their own\\nMust have worked in developing and deploying models using more than one cloud platform (AWS, Azure, GCP, IBM)\\nAbility to handle multiple projects as an individual contributor and as a lead / mentor to other team members managed directly or indirectly on a project / assignment\\nExcellent interpersonal and stakeholder management skills including ability to interact and present to senior stakeholders',\n",
       " 'Job Description\\nAs a Data Scientist at IBM, you will help transform our clients data into tangible business value by analyzing information, communicating outcomes and collaborating on product development. Work with Best in Class open source and visual tools, along with the most flexible and scalable deployment options. Whether it s investigating patient trends or weather patterns, you will work to solve real world problems for the industries transforming how we live.\\n\\nYour Role and Responsibilities\\nData Science Consultants are adept across data science techniques using open source tools to solve varied use cases for our clients\\nThey work to build strong, enduring relationships with client staff based on innovation, trust and service excellence.\\nThey are accountable for successful delivery of complex data science engagements adhering to client s requirements and timelines\\nThey learn constantly and lead adoption of emerging technologies and approaches in their processes benefiting the client & IBM overall.\\nRequired Technical and Professional Expertise\\nBTech (with 8 years of relevant experience) or Masters (with 6 years of relevant experience) in Operations Research, Applied Mathematics/ Statistics/ Econometrics, Electrical or Systems Engineering, Physics or similar highly quantitative field\\nStrong ability to transform business requirements into data science formulations and implement the solutions in an efficient and scalable fashion\\nSound understanding of data science concepts, model development & performance tuning processes as well as coding, version control and CI/CD best practices\\nDemonstrated extensive experience in building and deploying production quality models in a live digital environment using data pipelines and ML Ops frameworks including handling model drift, retraining and version control lifecycle\\nHighly skilled in Python and various data science related libraries of Python including TensorFlow, Keras, Sci-Kit Lean, Pandas, Numpy and PySpark\\nExperience in Convolutional Neural Network / Computer Vision projects using TensorFlow, PyTorch and leveraging public / open-source libraries (VGG16, ImageNet, YOLO, OpenCV, etc) as well as ability to tweak, modify these CNN architectures when required for a specific business problem.\\nDemonstrated ability of scoping, executing and scaling multiple data science deliverables on their own\\nMust have worked in developing and deploying models using more than one cloud platform (AWS, Azure, GCP, IBM)\\nAbility to handle multiple projects as an individual contributor and as a lead / mentor to other team members managed directly or indirectly on a project / assignment\\nExcellent interpersonal and stakeholder management skills including ability to interact and present to senior stakeholders']"
      ]
     },
     "execution_count": 115,
     "metadata": {},
     "output_type": "execute_result"
    }
   ],
   "source": [
    "full_job_description"
   ]
  },
  {
   "cell_type": "code",
   "execution_count": 87,
   "metadata": {},
   "outputs": [
    {
     "data": {
      "text/plain": [
       "[<selenium.webdriver.remote.webelement.WebElement (session=\"8193eaad84264ef7479d47a45981ac53\", element=\"09830780-5540-4f3a-ae92-74687a407c8b\")>,\n",
       " <selenium.webdriver.remote.webelement.WebElement (session=\"8193eaad84264ef7479d47a45981ac53\", element=\"71abd490-0f23-433d-9fc5-9a3c3292588b\")>,\n",
       " <selenium.webdriver.remote.webelement.WebElement (session=\"8193eaad84264ef7479d47a45981ac53\", element=\"4b31d2c5-067b-42f2-a8ac-4f9addabc9a9\")>,\n",
       " <selenium.webdriver.remote.webelement.WebElement (session=\"8193eaad84264ef7479d47a45981ac53\", element=\"cb184b84-5af9-4faa-bf1f-f4e75290010f\")>,\n",
       " <selenium.webdriver.remote.webelement.WebElement (session=\"8193eaad84264ef7479d47a45981ac53\", element=\"dba09337-17b0-479b-884a-06b45a41740d\")>,\n",
       " <selenium.webdriver.remote.webelement.WebElement (session=\"8193eaad84264ef7479d47a45981ac53\", element=\"a484758b-df8c-457f-b284-1e1109cc45c9\")>,\n",
       " <selenium.webdriver.remote.webelement.WebElement (session=\"8193eaad84264ef7479d47a45981ac53\", element=\"d1d71f8a-bdfb-440d-a3b4-452edac7c66c\")>,\n",
       " <selenium.webdriver.remote.webelement.WebElement (session=\"8193eaad84264ef7479d47a45981ac53\", element=\"ff905d5e-e215-4476-ade8-4b44c9aa6d52\")>,\n",
       " <selenium.webdriver.remote.webelement.WebElement (session=\"8193eaad84264ef7479d47a45981ac53\", element=\"8830e823-6895-4b2c-92b1-bc26c1695915\")>,\n",
       " <selenium.webdriver.remote.webelement.WebElement (session=\"8193eaad84264ef7479d47a45981ac53\", element=\"80d37b1d-7c99-498a-bc04-38040ac7ee81\")>,\n",
       " <selenium.webdriver.remote.webelement.WebElement (session=\"8193eaad84264ef7479d47a45981ac53\", element=\"2e0c6f46-c293-49f1-b66b-9b819bc7923b\")>,\n",
       " <selenium.webdriver.remote.webelement.WebElement (session=\"8193eaad84264ef7479d47a45981ac53\", element=\"f9d2e254-4fbf-4cff-aefb-7b2fa27041f4\")>,\n",
       " <selenium.webdriver.remote.webelement.WebElement (session=\"8193eaad84264ef7479d47a45981ac53\", element=\"58dd385d-b3ef-4dfd-a5ac-678986947113\")>,\n",
       " <selenium.webdriver.remote.webelement.WebElement (session=\"8193eaad84264ef7479d47a45981ac53\", element=\"200500ca-63a0-40ce-9701-c30c555ffc44\")>,\n",
       " <selenium.webdriver.remote.webelement.WebElement (session=\"8193eaad84264ef7479d47a45981ac53\", element=\"1d1b4a08-5ecf-4d40-95c7-f3537f5126d0\")>,\n",
       " <selenium.webdriver.remote.webelement.WebElement (session=\"8193eaad84264ef7479d47a45981ac53\", element=\"a9957387-d892-45d7-8699-b8906a54af31\")>,\n",
       " <selenium.webdriver.remote.webelement.WebElement (session=\"8193eaad84264ef7479d47a45981ac53\", element=\"fa9d081b-09c6-428d-bdd5-a71e86a783d0\")>,\n",
       " <selenium.webdriver.remote.webelement.WebElement (session=\"8193eaad84264ef7479d47a45981ac53\", element=\"73cc7879-520b-4197-8f11-86437c1dba85\")>,\n",
       " <selenium.webdriver.remote.webelement.WebElement (session=\"8193eaad84264ef7479d47a45981ac53\", element=\"3f598193-0dcd-4099-bab8-5a068cf17044\")>,\n",
       " <selenium.webdriver.remote.webelement.WebElement (session=\"8193eaad84264ef7479d47a45981ac53\", element=\"cd25fdb8-717a-4348-a676-118a020c6b6d\")>]"
      ]
     },
     "execution_count": 87,
     "metadata": {},
     "output_type": "execute_result"
    }
   ],
   "source": [
    "location_tags=driver.find_elements_by_xpath('//li[@class=\"fleft grey-text br2 placeHolderLi location\"]')\n",
    "location_tags"
   ]
  },
  {
   "cell_type": "code",
   "execution_count": 88,
   "metadata": {},
   "outputs": [
    {
     "data": {
      "text/plain": [
       "['Kolkata, Hyderabad/Secunderabad, Pune, Chennai, Bangalore/Bengaluru, Delhi / NCR',\n",
       " 'Bangalore/Bengaluru',\n",
       " 'New Delhi, Bangalore/Bengaluru, Mumbai (All Areas)\\n(WFH during Covid)',\n",
       " 'Bangalore/Bengaluru',\n",
       " 'Bangalore/Bengaluru',\n",
       " 'Remote',\n",
       " 'Bangalore/Bengaluru',\n",
       " 'Bangalore/Bengaluru',\n",
       " 'Bangalore/Bengaluru',\n",
       " 'Bangalore/Bengaluru',\n",
       " 'Hyderabad/Secunderabad, Chennai, Bangalore/Bengaluru',\n",
       " 'Bangalore/Bengaluru',\n",
       " 'Bangalore/Bengaluru',\n",
       " 'Bangalore/Bengaluru\\n(WFH during Covid)',\n",
       " 'Bangalore/Bengaluru',\n",
       " 'Chennai, Bangalore/Bengaluru, Mumbai (All Areas)\\n(WFH during Covid)',\n",
       " 'Bangalore/Bengaluru',\n",
       " 'Bangalore/Bengaluru',\n",
       " 'Bengaluru/Bangalore',\n",
       " 'Bangalore/Bengaluru']"
      ]
     },
     "execution_count": 88,
     "metadata": {},
     "output_type": "execute_result"
    }
   ],
   "source": [
    "location=[]\n",
    "for i in location_tags:\n",
    "    location.append(i.text)\n",
    "location"
   ]
  },
  {
   "cell_type": "code",
   "execution_count": 89,
   "metadata": {},
   "outputs": [
    {
     "data": {
      "text/plain": [
       "[<selenium.webdriver.remote.webelement.WebElement (session=\"8193eaad84264ef7479d47a45981ac53\", element=\"18f6f517-6d65-4c5e-bfc8-f298c256a993\")>,\n",
       " <selenium.webdriver.remote.webelement.WebElement (session=\"8193eaad84264ef7479d47a45981ac53\", element=\"5761a70b-0302-4e62-be9b-ba3c76876ae8\")>,\n",
       " <selenium.webdriver.remote.webelement.WebElement (session=\"8193eaad84264ef7479d47a45981ac53\", element=\"e35d04ea-dcc5-4da1-ab51-ad643ab515ef\")>,\n",
       " <selenium.webdriver.remote.webelement.WebElement (session=\"8193eaad84264ef7479d47a45981ac53\", element=\"b21cd977-f0ef-4dbc-8e44-c7ad5d50f0fe\")>,\n",
       " <selenium.webdriver.remote.webelement.WebElement (session=\"8193eaad84264ef7479d47a45981ac53\", element=\"c8b62766-1719-411a-bc8a-49239d04e8c5\")>,\n",
       " <selenium.webdriver.remote.webelement.WebElement (session=\"8193eaad84264ef7479d47a45981ac53\", element=\"9fcacc4c-bf6c-49a7-82b9-703ba0b09564\")>,\n",
       " <selenium.webdriver.remote.webelement.WebElement (session=\"8193eaad84264ef7479d47a45981ac53\", element=\"9fb22e70-973a-4595-b2b0-9aced42cff06\")>,\n",
       " <selenium.webdriver.remote.webelement.WebElement (session=\"8193eaad84264ef7479d47a45981ac53\", element=\"e5303b6e-f11d-4252-800d-9684d8835952\")>,\n",
       " <selenium.webdriver.remote.webelement.WebElement (session=\"8193eaad84264ef7479d47a45981ac53\", element=\"3daf1e0c-751b-4359-a3dc-5aa1e4c3dbde\")>,\n",
       " <selenium.webdriver.remote.webelement.WebElement (session=\"8193eaad84264ef7479d47a45981ac53\", element=\"50bd1f9e-a1fa-4bf3-8b93-95aef77a6945\")>,\n",
       " <selenium.webdriver.remote.webelement.WebElement (session=\"8193eaad84264ef7479d47a45981ac53\", element=\"d907086d-c0d6-4fb6-8f97-bd19248e127a\")>,\n",
       " <selenium.webdriver.remote.webelement.WebElement (session=\"8193eaad84264ef7479d47a45981ac53\", element=\"86948bae-d578-40f0-a6c6-98617c30b244\")>,\n",
       " <selenium.webdriver.remote.webelement.WebElement (session=\"8193eaad84264ef7479d47a45981ac53\", element=\"e2564179-2ed3-48b8-a0c8-5ee82014f6dd\")>,\n",
       " <selenium.webdriver.remote.webelement.WebElement (session=\"8193eaad84264ef7479d47a45981ac53\", element=\"1c3e3fca-97d6-4dfe-8183-caabbec55cdb\")>,\n",
       " <selenium.webdriver.remote.webelement.WebElement (session=\"8193eaad84264ef7479d47a45981ac53\", element=\"8cb5b9c2-3344-4812-ac05-96c518853369\")>,\n",
       " <selenium.webdriver.remote.webelement.WebElement (session=\"8193eaad84264ef7479d47a45981ac53\", element=\"a833b6ec-c448-4cb9-b6b5-e7981fd4639f\")>,\n",
       " <selenium.webdriver.remote.webelement.WebElement (session=\"8193eaad84264ef7479d47a45981ac53\", element=\"e50145ea-1272-4a57-884f-852c1b107a8b\")>,\n",
       " <selenium.webdriver.remote.webelement.WebElement (session=\"8193eaad84264ef7479d47a45981ac53\", element=\"e81016ed-64ae-4ec9-ac23-691c6fea7080\")>,\n",
       " <selenium.webdriver.remote.webelement.WebElement (session=\"8193eaad84264ef7479d47a45981ac53\", element=\"d053a38d-85b3-4c22-99a4-37bb526f34e8\")>,\n",
       " <selenium.webdriver.remote.webelement.WebElement (session=\"8193eaad84264ef7479d47a45981ac53\", element=\"4371601b-021b-4b7d-8465-92f6692b396d\")>]"
      ]
     },
     "execution_count": 89,
     "metadata": {},
     "output_type": "execute_result"
    }
   ],
   "source": [
    "company_tags=driver.find_elements_by_xpath('//a[@class=\"subTitle ellipsis fleft\"]')\n",
    "company_tags"
   ]
  },
  {
   "cell_type": "code",
   "execution_count": 90,
   "metadata": {},
   "outputs": [
    {
     "data": {
      "text/plain": [
       "['Tata Consultancy Services Ltd.',\n",
       " 'Infrrd Private Limited',\n",
       " 'VALIANCE ANALYTICS PRIVATE LIMITED',\n",
       " 'Walmart Labs',\n",
       " 'ConsultTrinity Services Private Limited',\n",
       " 'Opening with an SAAS product company.',\n",
       " 'Brillio',\n",
       " 'Allegis Services India Pvt. Ltd.',\n",
       " 'Allegis Services India Pvt. Ltd.',\n",
       " 'SRS Business Solutions (India) Pvt. Ltd.',\n",
       " 'GABA Consultancy services',\n",
       " 'ATG BUSINESS SOLUTIONS PRIVATE LIMITED',\n",
       " 'Novo Nordisk India',\n",
       " 'QUIN BAY TECHNOLOGIES PRIVATE LIMITED',\n",
       " 'Sharechat',\n",
       " 'Tata Consultancy Services Ltd.',\n",
       " 'Walmart Labs',\n",
       " 'Airbnb',\n",
       " 'IBM India Pvt. Limited',\n",
       " 'IBM India Pvt. Limited']"
      ]
     },
     "execution_count": 90,
     "metadata": {},
     "output_type": "execute_result"
    }
   ],
   "source": [
    "companies=[]\n",
    "for i in company_tags:\n",
    "    companies.append(i.text)\n",
    "companies"
   ]
  },
  {
   "cell_type": "code",
   "execution_count": 116,
   "metadata": {},
   "outputs": [
    {
     "name": "stdout",
     "output_type": "stream",
     "text": [
      "20 20 20 20 20\n"
     ]
    }
   ],
   "source": [
    "print(len(job_title),len(companies),len(location),len(experience_job),len(full_job_description))"
   ]
  },
  {
   "cell_type": "code",
   "execution_count": null,
   "metadata": {},
   "outputs": [],
   "source": []
  },
  {
   "cell_type": "code",
   "execution_count": 118,
   "metadata": {},
   "outputs": [
    {
     "data": {
      "text/html": [
       "<div>\n",
       "<style scoped>\n",
       "    .dataframe tbody tr th:only-of-type {\n",
       "        vertical-align: middle;\n",
       "    }\n",
       "\n",
       "    .dataframe tbody tr th {\n",
       "        vertical-align: top;\n",
       "    }\n",
       "\n",
       "    .dataframe thead th {\n",
       "        text-align: right;\n",
       "    }\n",
       "</style>\n",
       "<table border=\"1\" class=\"dataframe\">\n",
       "  <thead>\n",
       "    <tr style=\"text-align: right;\">\n",
       "      <th></th>\n",
       "      <th>Title</th>\n",
       "      <th>Company</th>\n",
       "      <th>Location</th>\n",
       "      <th>Experience_Required</th>\n",
       "      <th>Full_Job_Description</th>\n",
       "    </tr>\n",
       "  </thead>\n",
       "  <tbody>\n",
       "    <tr>\n",
       "      <th>0</th>\n",
       "      <td>Hiring For Senior Data Scientist</td>\n",
       "      <td>Tata Consultancy Services Ltd.</td>\n",
       "      <td>Kolkata, Hyderabad/Secunderabad, Pune, Chennai...</td>\n",
       "      <td>5-10 Yrs</td>\n",
       "      <td>--</td>\n",
       "    </tr>\n",
       "    <tr>\n",
       "      <th>1</th>\n",
       "      <td>Senior Data Scientist</td>\n",
       "      <td>Infrrd Private Limited</td>\n",
       "      <td>Bangalore/Bengaluru</td>\n",
       "      <td>4-8 Yrs</td>\n",
       "      <td>--</td>\n",
       "    </tr>\n",
       "    <tr>\n",
       "      <th>2</th>\n",
       "      <td>Data Scientist/Sr. Data Scientist</td>\n",
       "      <td>VALIANCE ANALYTICS PRIVATE LIMITED</td>\n",
       "      <td>New Delhi, Bangalore/Bengaluru, Mumbai (All Ar...</td>\n",
       "      <td>2-5 Yrs</td>\n",
       "      <td>--</td>\n",
       "    </tr>\n",
       "    <tr>\n",
       "      <th>3</th>\n",
       "      <td>Senior Data Scientist (MINT)</td>\n",
       "      <td>Walmart Labs</td>\n",
       "      <td>Bangalore/Bengaluru</td>\n",
       "      <td>5-9 Yrs</td>\n",
       "      <td>--</td>\n",
       "    </tr>\n",
       "    <tr>\n",
       "      <th>4</th>\n",
       "      <td>Senior Data Scientist</td>\n",
       "      <td>ConsultTrinity Services Private Limited</td>\n",
       "      <td>Bangalore/Bengaluru</td>\n",
       "      <td>7-12 Yrs</td>\n",
       "      <td>--</td>\n",
       "    </tr>\n",
       "    <tr>\n",
       "      <th>5</th>\n",
       "      <td>Data Scientist - NLP</td>\n",
       "      <td>Opening with an SAAS product company.</td>\n",
       "      <td>Remote</td>\n",
       "      <td>11-15 Yrs</td>\n",
       "      <td>--</td>\n",
       "    </tr>\n",
       "    <tr>\n",
       "      <th>6</th>\n",
       "      <td>Data Scientist</td>\n",
       "      <td>Brillio</td>\n",
       "      <td>Bangalore/Bengaluru</td>\n",
       "      <td>3-8 Yrs</td>\n",
       "      <td>--</td>\n",
       "    </tr>\n",
       "    <tr>\n",
       "      <th>7</th>\n",
       "      <td>Data Scientist</td>\n",
       "      <td>Allegis Services India Pvt. Ltd.</td>\n",
       "      <td>Bangalore/Bengaluru</td>\n",
       "      <td>4-8 Yrs</td>\n",
       "      <td>--</td>\n",
       "    </tr>\n",
       "    <tr>\n",
       "      <th>8</th>\n",
       "      <td>Data Scientist</td>\n",
       "      <td>Allegis Services India Pvt. Ltd.</td>\n",
       "      <td>Bangalore/Bengaluru</td>\n",
       "      <td>4-8 Yrs</td>\n",
       "      <td>Job Description\\n\\nMust Have skill sets:\\n\\nEx...</td>\n",
       "    </tr>\n",
       "    <tr>\n",
       "      <th>9</th>\n",
       "      <td>Data Analyst/ Data Scientist</td>\n",
       "      <td>SRS Business Solutions (India) Pvt. Ltd.</td>\n",
       "      <td>Bangalore/Bengaluru</td>\n",
       "      <td>5-10 Yrs</td>\n",
       "      <td>--</td>\n",
       "    </tr>\n",
       "  </tbody>\n",
       "</table>\n",
       "</div>"
      ],
      "text/plain": [
       "                               Title  \\\n",
       "0   Hiring For Senior Data Scientist   \n",
       "1              Senior Data Scientist   \n",
       "2  Data Scientist/Sr. Data Scientist   \n",
       "3       Senior Data Scientist (MINT)   \n",
       "4              Senior Data Scientist   \n",
       "5               Data Scientist - NLP   \n",
       "6                     Data Scientist   \n",
       "7                     Data Scientist   \n",
       "8                     Data Scientist   \n",
       "9       Data Analyst/ Data Scientist   \n",
       "\n",
       "                                    Company  \\\n",
       "0            Tata Consultancy Services Ltd.   \n",
       "1                    Infrrd Private Limited   \n",
       "2        VALIANCE ANALYTICS PRIVATE LIMITED   \n",
       "3                              Walmart Labs   \n",
       "4   ConsultTrinity Services Private Limited   \n",
       "5     Opening with an SAAS product company.   \n",
       "6                                   Brillio   \n",
       "7          Allegis Services India Pvt. Ltd.   \n",
       "8          Allegis Services India Pvt. Ltd.   \n",
       "9  SRS Business Solutions (India) Pvt. Ltd.   \n",
       "\n",
       "                                            Location Experience_Required  \\\n",
       "0  Kolkata, Hyderabad/Secunderabad, Pune, Chennai...            5-10 Yrs   \n",
       "1                                Bangalore/Bengaluru             4-8 Yrs   \n",
       "2  New Delhi, Bangalore/Bengaluru, Mumbai (All Ar...             2-5 Yrs   \n",
       "3                                Bangalore/Bengaluru             5-9 Yrs   \n",
       "4                                Bangalore/Bengaluru            7-12 Yrs   \n",
       "5                                             Remote           11-15 Yrs   \n",
       "6                                Bangalore/Bengaluru             3-8 Yrs   \n",
       "7                                Bangalore/Bengaluru             4-8 Yrs   \n",
       "8                                Bangalore/Bengaluru             4-8 Yrs   \n",
       "9                                Bangalore/Bengaluru            5-10 Yrs   \n",
       "\n",
       "                                Full_Job_Description  \n",
       "0                                                 --  \n",
       "1                                                 --  \n",
       "2                                                 --  \n",
       "3                                                 --  \n",
       "4                                                 --  \n",
       "5                                                 --  \n",
       "6                                                 --  \n",
       "7                                                 --  \n",
       "8  Job Description\\n\\nMust Have skill sets:\\n\\nEx...  \n",
       "9                                                 --  "
      ]
     },
     "execution_count": 118,
     "metadata": {},
     "output_type": "execute_result"
    }
   ],
   "source": [
    "Job1=pd.DataFrame({})\n",
    "Job1['Title']=job_title[:10]\n",
    "Job1['Company']=companies[:10]\n",
    "Job1['Location']=location[:10]\n",
    "Job1['Experience_Required']=experience_job[:10]\n",
    "Job1['Full_Job_Description']=full_job_description[:10]\n",
    "Job1"
   ]
  },
  {
   "cell_type": "code",
   "execution_count": null,
   "metadata": {},
   "outputs": [],
   "source": []
  },
  {
   "cell_type": "markdown",
   "metadata": {},
   "source": [
    "3: In this question you have to scrape data using the filters available on the webpageYou have to use the location and salary filter. You have to scrape data for “Data Scientist” designation for first 10 job results. You have to scrape the job-title, job-location, company_name, experience_required. The location filter to be used is “Delhi/NCR” The salary filter to be used is “3-6” lakhs"
   ]
  },
  {
   "cell_type": "code",
   "execution_count": 119,
   "metadata": {},
   "outputs": [],
   "source": [
    "options = webdriver.ChromeOptions()\n",
    "\n",
    "options.add_argument(\"start-maximized\")\n",
    "\n",
    "driver = uc.Chrome(executable_path='chromedriver.exe', options=options)\n",
    "\n",
    "keyword = \"https://www.naukri.com/\"\n",
    "\n",
    "driver.get(keyword)\n"
   ]
  },
  {
   "cell_type": "code",
   "execution_count": 122,
   "metadata": {},
   "outputs": [
    {
     "data": {
      "text/plain": [
       "<selenium.webdriver.remote.webelement.WebElement (session=\"aecc76920c8dbd7043d7dc76f84b2b29\", element=\"563a95c4-8975-4f25-8091-97d3b68024d2\")>"
      ]
     },
     "execution_count": 122,
     "metadata": {},
     "output_type": "execute_result"
    }
   ],
   "source": [
    "search_job3=driver.find_element_by_xpath('//input[@class=\"sugInp\"]')\n",
    "search_job3"
   ]
  },
  {
   "cell_type": "code",
   "execution_count": 123,
   "metadata": {},
   "outputs": [],
   "source": [
    "search_job3.send_keys(\"Data Scientist\")"
   ]
  },
  {
   "cell_type": "code",
   "execution_count": 125,
   "metadata": {},
   "outputs": [
    {
     "data": {
      "text/plain": [
       "<selenium.webdriver.remote.webelement.WebElement (session=\"aecc76920c8dbd7043d7dc76f84b2b29\", element=\"79ff9bf0-fe09-4c48-a28a-91c766a98b7c\")>"
      ]
     },
     "execution_count": 125,
     "metadata": {},
     "output_type": "execute_result"
    }
   ],
   "source": [
    "search_Btn=driver.find_element_by_xpath('//button[@class=\"btn\"]')\n",
    "search_Btn"
   ]
  },
  {
   "cell_type": "code",
   "execution_count": 126,
   "metadata": {},
   "outputs": [],
   "source": [
    "search_Btn.click()"
   ]
  },
  {
   "cell_type": "code",
   "execution_count": 210,
   "metadata": {},
   "outputs": [],
   "source": [
    "from selenium.webdriver.common.by import By"
   ]
  },
  {
   "cell_type": "code",
   "execution_count": 277,
   "metadata": {},
   "outputs": [],
   "source": [
    "driver.find_element(By.XPATH,\"//input[@type='checkbox' and @id='chk-3-6 Lakhs-ctcFilter-']/..\").click()\n",
    "time.sleep(2)"
   ]
  },
  {
   "cell_type": "code",
   "execution_count": 278,
   "metadata": {},
   "outputs": [],
   "source": [
    "driver.find_element(By.XPATH,\"//span[@class='ellipsis fleft' and @title='Delhi / NCR']/..\").click()\n",
    "time.sleep(2)"
   ]
  },
  {
   "cell_type": "code",
   "execution_count": 279,
   "metadata": {},
   "outputs": [
    {
     "data": {
      "text/plain": [
       "[<selenium.webdriver.remote.webelement.WebElement (session=\"aecc76920c8dbd7043d7dc76f84b2b29\", element=\"45e8e875-15a3-4241-a2df-d36b617feeb0\")>,\n",
       " <selenium.webdriver.remote.webelement.WebElement (session=\"aecc76920c8dbd7043d7dc76f84b2b29\", element=\"4b701f2d-868c-49f2-8485-178c0e271c75\")>,\n",
       " <selenium.webdriver.remote.webelement.WebElement (session=\"aecc76920c8dbd7043d7dc76f84b2b29\", element=\"177556ed-4725-4330-85eb-230ecf8f22a4\")>,\n",
       " <selenium.webdriver.remote.webelement.WebElement (session=\"aecc76920c8dbd7043d7dc76f84b2b29\", element=\"aa37a355-733e-4a73-b08a-a50ba81ac849\")>,\n",
       " <selenium.webdriver.remote.webelement.WebElement (session=\"aecc76920c8dbd7043d7dc76f84b2b29\", element=\"80eedf2e-190f-4c75-bcd9-2385b2eaf34e\")>,\n",
       " <selenium.webdriver.remote.webelement.WebElement (session=\"aecc76920c8dbd7043d7dc76f84b2b29\", element=\"31262e81-0283-4745-8eba-e91297585de3\")>,\n",
       " <selenium.webdriver.remote.webelement.WebElement (session=\"aecc76920c8dbd7043d7dc76f84b2b29\", element=\"a89069ee-e874-4668-a048-250fcb2664e7\")>,\n",
       " <selenium.webdriver.remote.webelement.WebElement (session=\"aecc76920c8dbd7043d7dc76f84b2b29\", element=\"042ca4d6-bd77-4425-9b71-19fa2de8bf07\")>,\n",
       " <selenium.webdriver.remote.webelement.WebElement (session=\"aecc76920c8dbd7043d7dc76f84b2b29\", element=\"10359cf6-3894-454f-a5b1-76905fabbe63\")>,\n",
       " <selenium.webdriver.remote.webelement.WebElement (session=\"aecc76920c8dbd7043d7dc76f84b2b29\", element=\"1f42e246-c153-4d8f-ba79-bc383254ee46\")>,\n",
       " <selenium.webdriver.remote.webelement.WebElement (session=\"aecc76920c8dbd7043d7dc76f84b2b29\", element=\"3d812cc2-bddf-42af-8585-d7ca64c421cb\")>,\n",
       " <selenium.webdriver.remote.webelement.WebElement (session=\"aecc76920c8dbd7043d7dc76f84b2b29\", element=\"dc24bfa2-1d3a-4853-9347-7c759944af8e\")>,\n",
       " <selenium.webdriver.remote.webelement.WebElement (session=\"aecc76920c8dbd7043d7dc76f84b2b29\", element=\"49ff0f0c-a568-4641-8436-dec50472bb21\")>,\n",
       " <selenium.webdriver.remote.webelement.WebElement (session=\"aecc76920c8dbd7043d7dc76f84b2b29\", element=\"eab21aa8-b968-449c-be06-e29874b89aeb\")>,\n",
       " <selenium.webdriver.remote.webelement.WebElement (session=\"aecc76920c8dbd7043d7dc76f84b2b29\", element=\"e4044c92-9940-4aa2-b05a-75e953161b28\")>,\n",
       " <selenium.webdriver.remote.webelement.WebElement (session=\"aecc76920c8dbd7043d7dc76f84b2b29\", element=\"6290316a-9f91-428d-bc2f-efc91b4f9d98\")>,\n",
       " <selenium.webdriver.remote.webelement.WebElement (session=\"aecc76920c8dbd7043d7dc76f84b2b29\", element=\"3b295095-7778-4c23-aa6e-c0804fc6fb0c\")>,\n",
       " <selenium.webdriver.remote.webelement.WebElement (session=\"aecc76920c8dbd7043d7dc76f84b2b29\", element=\"f6e05153-f334-464c-8318-435f3bb5b16d\")>,\n",
       " <selenium.webdriver.remote.webelement.WebElement (session=\"aecc76920c8dbd7043d7dc76f84b2b29\", element=\"3a1ec0b9-6457-408a-abcc-e2cae7515767\")>,\n",
       " <selenium.webdriver.remote.webelement.WebElement (session=\"aecc76920c8dbd7043d7dc76f84b2b29\", element=\"8afe10f6-bd82-4345-a561-2c3ad2f26abd\")>]"
      ]
     },
     "execution_count": 279,
     "metadata": {},
     "output_type": "execute_result"
    }
   ],
   "source": [
    "title_tags=driver.find_elements_by_xpath('//a[@class=\"title fw500 ellipsis\"]')\n",
    "title_tags"
   ]
  },
  {
   "cell_type": "code",
   "execution_count": 280,
   "metadata": {},
   "outputs": [
    {
     "data": {
      "text/plain": [
       "['Data Scientist/ Machine Learning Engineer',\n",
       " 'Data Scientist / Data Analyst / Business Analytics - MNC Jobs Freshers',\n",
       " 'Job Opportunity || Data Scientist || HCL Technologies',\n",
       " 'Only Fresher / Python Data Scientist / Trainee / Analytics - MNC Jobs',\n",
       " 'Data Scientist / Data Analyst / Business Analytics - MNC Jobs Freshers',\n",
       " 'Data Scientist',\n",
       " 'Data Scientist - Insurance',\n",
       " 'Only Fresher / Data Scientist / Data Analyst / Analytics - MNC Jobs',\n",
       " 'Data Scientist - WFH - MIND Infotech',\n",
       " 'Immediate Openings For Data Scientist For Wipro C2H',\n",
       " 'Data Scientist',\n",
       " 'Data Scientist',\n",
       " 'Senior Data Scientist',\n",
       " 'Data Scientist - Machine Learning/ NLP',\n",
       " 'Data Analyst/Data Scientist',\n",
       " 'Hiring Data Scientist Develope || IDS Infotech LTD || (Permanent WFH)',\n",
       " 'Data Scientist Internship',\n",
       " 'Data Scientist-immediate Joiners',\n",
       " 'Data Scientist / Data Analyst',\n",
       " 'Data Scientist']"
      ]
     },
     "execution_count": 280,
     "metadata": {},
     "output_type": "execute_result"
    }
   ],
   "source": [
    "titles=[]\n",
    "for i in title_tags:\n",
    "    titles.append(i.text)\n",
    "titles"
   ]
  },
  {
   "cell_type": "code",
   "execution_count": 281,
   "metadata": {},
   "outputs": [
    {
     "data": {
      "text/plain": [
       "[<selenium.webdriver.remote.webelement.WebElement (session=\"aecc76920c8dbd7043d7dc76f84b2b29\", element=\"c2af4775-d600-4e37-9711-2f7eaf19f479\")>,\n",
       " <selenium.webdriver.remote.webelement.WebElement (session=\"aecc76920c8dbd7043d7dc76f84b2b29\", element=\"c8776c36-ad41-4ca3-aae0-67caf0e0e6e8\")>,\n",
       " <selenium.webdriver.remote.webelement.WebElement (session=\"aecc76920c8dbd7043d7dc76f84b2b29\", element=\"4ae7d5c3-4a51-4f55-a1d8-5eca2836503f\")>,\n",
       " <selenium.webdriver.remote.webelement.WebElement (session=\"aecc76920c8dbd7043d7dc76f84b2b29\", element=\"9b94e097-c486-4bfc-8ab8-0d4a06c43c34\")>,\n",
       " <selenium.webdriver.remote.webelement.WebElement (session=\"aecc76920c8dbd7043d7dc76f84b2b29\", element=\"d129a83c-64e8-4b50-a79c-b78cb5eaf12d\")>,\n",
       " <selenium.webdriver.remote.webelement.WebElement (session=\"aecc76920c8dbd7043d7dc76f84b2b29\", element=\"f964ca69-8659-43f7-a05f-57d7510481f1\")>,\n",
       " <selenium.webdriver.remote.webelement.WebElement (session=\"aecc76920c8dbd7043d7dc76f84b2b29\", element=\"35f0f1d8-ee66-48b4-834e-c9f199675597\")>,\n",
       " <selenium.webdriver.remote.webelement.WebElement (session=\"aecc76920c8dbd7043d7dc76f84b2b29\", element=\"214bd65e-b9bb-4f3b-9c9d-b5bd8a184947\")>,\n",
       " <selenium.webdriver.remote.webelement.WebElement (session=\"aecc76920c8dbd7043d7dc76f84b2b29\", element=\"25246843-d518-4734-b1a0-6aa858173058\")>,\n",
       " <selenium.webdriver.remote.webelement.WebElement (session=\"aecc76920c8dbd7043d7dc76f84b2b29\", element=\"acf485f9-d432-4ab3-be9b-60c2b7640933\")>,\n",
       " <selenium.webdriver.remote.webelement.WebElement (session=\"aecc76920c8dbd7043d7dc76f84b2b29\", element=\"a0d42f39-748b-4cf7-8922-1c7a95e564d9\")>,\n",
       " <selenium.webdriver.remote.webelement.WebElement (session=\"aecc76920c8dbd7043d7dc76f84b2b29\", element=\"1a937da0-2401-439a-98a9-13bfd485e72e\")>,\n",
       " <selenium.webdriver.remote.webelement.WebElement (session=\"aecc76920c8dbd7043d7dc76f84b2b29\", element=\"48c6d809-b8df-48c8-bd86-c3406cdafcd9\")>,\n",
       " <selenium.webdriver.remote.webelement.WebElement (session=\"aecc76920c8dbd7043d7dc76f84b2b29\", element=\"c3f9486f-082a-44fc-b35c-0066222749da\")>,\n",
       " <selenium.webdriver.remote.webelement.WebElement (session=\"aecc76920c8dbd7043d7dc76f84b2b29\", element=\"2497b277-3f72-45af-b16a-580cdbc9f47e\")>,\n",
       " <selenium.webdriver.remote.webelement.WebElement (session=\"aecc76920c8dbd7043d7dc76f84b2b29\", element=\"18ee2071-d3cb-4c32-89d4-bfc6150368da\")>,\n",
       " <selenium.webdriver.remote.webelement.WebElement (session=\"aecc76920c8dbd7043d7dc76f84b2b29\", element=\"3e71d876-1782-4376-bd4f-b6317935d35b\")>,\n",
       " <selenium.webdriver.remote.webelement.WebElement (session=\"aecc76920c8dbd7043d7dc76f84b2b29\", element=\"8f1d6424-015d-4fd0-aefb-08f3ce00834c\")>,\n",
       " <selenium.webdriver.remote.webelement.WebElement (session=\"aecc76920c8dbd7043d7dc76f84b2b29\", element=\"3092a031-a857-47c9-988b-fe2770691b3b\")>,\n",
       " <selenium.webdriver.remote.webelement.WebElement (session=\"aecc76920c8dbd7043d7dc76f84b2b29\", element=\"3d927517-4b4a-4ed3-9c55-f6ebdd659eb5\")>]"
      ]
     },
     "execution_count": 281,
     "metadata": {},
     "output_type": "execute_result"
    }
   ],
   "source": [
    "location_tag=driver.find_elements_by_xpath('//li[@class=\"fleft grey-text br2 placeHolderLi location\"]')\n",
    "location_tag"
   ]
  },
  {
   "cell_type": "code",
   "execution_count": 282,
   "metadata": {},
   "outputs": [
    {
     "data": {
      "text/plain": [
       "['Hyderabad/Secunderabad, Pune, Ahmedabad, Gurgaon/Gurugram, Chennai, Bangalore/Bengaluru',\n",
       " 'Ghaziabad, Faridabad, Delhi / NCR',\n",
       " 'Delhi / NCR',\n",
       " 'Noida, New Delhi, Gurgaon/Gurugram',\n",
       " 'Noida, New Delhi, Gurgaon/Gurugram',\n",
       " 'Noida\\n(WFH during Covid)',\n",
       " 'Noida, Gurgaon/Gurugram',\n",
       " 'Noida, Gurgaon/Gurugram, Delhi / NCR',\n",
       " 'Pune, Chennai, Bangalore/Bengaluru, Delhi / NCR, Mumbai (All Areas)',\n",
       " 'Gurgaon/Gurugram',\n",
       " 'Gurgaon/Gurugram\\n(WFH during Covid)',\n",
       " 'Delhi / NCR(Okhla)',\n",
       " 'Hyderabad/Secunderabad, Gurgaon/Gurugram, Bangalore/Bengaluru',\n",
       " 'Gurgaon/Gurugram',\n",
       " 'Bangalore/Bengaluru, Delhi / NCR, Mumbai (All Areas)',\n",
       " 'Chandigarh, Hyderabad/Secunderabad, Chennai, Bangalore/Bengaluru, Delhi / NCR',\n",
       " 'New Delhi',\n",
       " 'Noida',\n",
       " 'Gurgaon/Gurugram',\n",
       " 'Mumbai, Gurgaon/Gurugram, Bangalore/Bengaluru']"
      ]
     },
     "execution_count": 282,
     "metadata": {},
     "output_type": "execute_result"
    }
   ],
   "source": [
    "location=[]\n",
    "for i in location_tag:\n",
    "    location.append(i.text)\n",
    "location"
   ]
  },
  {
   "cell_type": "code",
   "execution_count": 283,
   "metadata": {},
   "outputs": [
    {
     "data": {
      "text/plain": [
       "[<selenium.webdriver.remote.webelement.WebElement (session=\"aecc76920c8dbd7043d7dc76f84b2b29\", element=\"8d613856-e4d9-4465-be2f-76c0b8a14d06\")>,\n",
       " <selenium.webdriver.remote.webelement.WebElement (session=\"aecc76920c8dbd7043d7dc76f84b2b29\", element=\"1ee44158-effa-4088-af12-80f786145d39\")>,\n",
       " <selenium.webdriver.remote.webelement.WebElement (session=\"aecc76920c8dbd7043d7dc76f84b2b29\", element=\"f4e04e28-4eaa-4204-84f1-a96bd85ddcbc\")>,\n",
       " <selenium.webdriver.remote.webelement.WebElement (session=\"aecc76920c8dbd7043d7dc76f84b2b29\", element=\"e1eb9283-8aa2-4d3c-b711-6a4bf0705691\")>,\n",
       " <selenium.webdriver.remote.webelement.WebElement (session=\"aecc76920c8dbd7043d7dc76f84b2b29\", element=\"4e322fa2-4c77-4c73-8d7a-09b36e554793\")>,\n",
       " <selenium.webdriver.remote.webelement.WebElement (session=\"aecc76920c8dbd7043d7dc76f84b2b29\", element=\"766a4965-cb3a-4e37-b9e2-c4a8c07dca6a\")>,\n",
       " <selenium.webdriver.remote.webelement.WebElement (session=\"aecc76920c8dbd7043d7dc76f84b2b29\", element=\"a402ec10-770b-4b4d-850a-221b5172cee4\")>,\n",
       " <selenium.webdriver.remote.webelement.WebElement (session=\"aecc76920c8dbd7043d7dc76f84b2b29\", element=\"d3c3fb0b-71a1-4f27-bea3-b31cccb90843\")>,\n",
       " <selenium.webdriver.remote.webelement.WebElement (session=\"aecc76920c8dbd7043d7dc76f84b2b29\", element=\"bdd4c675-d86f-4434-be32-e24d48704a82\")>,\n",
       " <selenium.webdriver.remote.webelement.WebElement (session=\"aecc76920c8dbd7043d7dc76f84b2b29\", element=\"e413a41a-0215-4175-8d5f-bb130641747d\")>,\n",
       " <selenium.webdriver.remote.webelement.WebElement (session=\"aecc76920c8dbd7043d7dc76f84b2b29\", element=\"1c26a645-d675-41f6-9e6d-3f0afb480cf9\")>,\n",
       " <selenium.webdriver.remote.webelement.WebElement (session=\"aecc76920c8dbd7043d7dc76f84b2b29\", element=\"e1a8bbcd-3fdf-4cad-8ead-d318dd50ab6e\")>,\n",
       " <selenium.webdriver.remote.webelement.WebElement (session=\"aecc76920c8dbd7043d7dc76f84b2b29\", element=\"23a3d1a7-cd93-446d-923c-5ff1ea71c8e8\")>,\n",
       " <selenium.webdriver.remote.webelement.WebElement (session=\"aecc76920c8dbd7043d7dc76f84b2b29\", element=\"8c0eef9b-bb00-46aa-a49e-74f9f5819c7c\")>,\n",
       " <selenium.webdriver.remote.webelement.WebElement (session=\"aecc76920c8dbd7043d7dc76f84b2b29\", element=\"9d24f14b-adf1-449f-99ef-4df77b5aec25\")>,\n",
       " <selenium.webdriver.remote.webelement.WebElement (session=\"aecc76920c8dbd7043d7dc76f84b2b29\", element=\"93960589-6e1e-40b4-b556-1ef2f1cfec3d\")>,\n",
       " <selenium.webdriver.remote.webelement.WebElement (session=\"aecc76920c8dbd7043d7dc76f84b2b29\", element=\"d7d1cae4-1b69-43fd-916c-60551df54912\")>,\n",
       " <selenium.webdriver.remote.webelement.WebElement (session=\"aecc76920c8dbd7043d7dc76f84b2b29\", element=\"81009415-c3cd-4121-a06c-f1e9b9acfd4d\")>,\n",
       " <selenium.webdriver.remote.webelement.WebElement (session=\"aecc76920c8dbd7043d7dc76f84b2b29\", element=\"46f11faf-7103-45f5-b2aa-5b1e3b2891c9\")>,\n",
       " <selenium.webdriver.remote.webelement.WebElement (session=\"aecc76920c8dbd7043d7dc76f84b2b29\", element=\"f9c7c066-dc9a-409e-bca9-d5fdd6e7b184\")>]"
      ]
     },
     "execution_count": 283,
     "metadata": {},
     "output_type": "execute_result"
    }
   ],
   "source": [
    "company_tag=driver.find_elements_by_xpath('//a[@class=\"subTitle ellipsis fleft\"]')\n",
    "company_tag"
   ]
  },
  {
   "cell_type": "code",
   "execution_count": 284,
   "metadata": {},
   "outputs": [
    {
     "data": {
      "text/plain": [
       "['Creative Hands HR Consultancy',\n",
       " 'GABA Consultancy services',\n",
       " 'HCL Technologies',\n",
       " 'GABA Consultancy services',\n",
       " 'GABA Consultancy services',\n",
       " 'R Systems International Ltd.',\n",
       " 'Huquo Consulting Pvt. Ltd',\n",
       " 'GABA Consultancy services',\n",
       " 'MOTHERSONSUMI INFOTECH & DESIGNS LIMITED',\n",
       " 'IDESLABS PRIVATE LIMITED',\n",
       " 'PROCESS NINE TECHNOLOGIES PVT.LTD.',\n",
       " 'Kusum Healthcare Pvt. Ltd.',\n",
       " 'inVentiv International Pharma Services Pvt. Ltd.',\n",
       " 'TalPro',\n",
       " 'Skillenable Fintech Private Limited',\n",
       " 'IDS Infotech Ltd.',\n",
       " 'iHackers Inc',\n",
       " 'Quikruit Consulting LLP',\n",
       " 'CARS24',\n",
       " 'Fractal Analytics']"
      ]
     },
     "execution_count": 284,
     "metadata": {},
     "output_type": "execute_result"
    }
   ],
   "source": [
    "company=[]\n",
    "for i in company_tag:\n",
    "    company.append(i.text)\n",
    "company"
   ]
  },
  {
   "cell_type": "code",
   "execution_count": 285,
   "metadata": {},
   "outputs": [
    {
     "data": {
      "text/plain": [
       "[<selenium.webdriver.remote.webelement.WebElement (session=\"aecc76920c8dbd7043d7dc76f84b2b29\", element=\"2473a0e6-b33f-452e-b857-d390cc75af40\")>,\n",
       " <selenium.webdriver.remote.webelement.WebElement (session=\"aecc76920c8dbd7043d7dc76f84b2b29\", element=\"ca50184d-b1a6-4236-a0a8-bbbcbb5b77c9\")>,\n",
       " <selenium.webdriver.remote.webelement.WebElement (session=\"aecc76920c8dbd7043d7dc76f84b2b29\", element=\"5ee907c4-b2b0-45a5-8e52-edb6c7cee438\")>,\n",
       " <selenium.webdriver.remote.webelement.WebElement (session=\"aecc76920c8dbd7043d7dc76f84b2b29\", element=\"17c8f46f-ed35-4284-8abc-a9f34d475e29\")>,\n",
       " <selenium.webdriver.remote.webelement.WebElement (session=\"aecc76920c8dbd7043d7dc76f84b2b29\", element=\"dd5c833a-3f4b-4a5a-8962-0fda4401fb75\")>,\n",
       " <selenium.webdriver.remote.webelement.WebElement (session=\"aecc76920c8dbd7043d7dc76f84b2b29\", element=\"91681a3c-8d91-42ec-8c1b-badeff232b54\")>,\n",
       " <selenium.webdriver.remote.webelement.WebElement (session=\"aecc76920c8dbd7043d7dc76f84b2b29\", element=\"8e565daf-1be3-4235-bbdd-4e9a1a20327b\")>,\n",
       " <selenium.webdriver.remote.webelement.WebElement (session=\"aecc76920c8dbd7043d7dc76f84b2b29\", element=\"da31ed56-f1ad-4a9b-97d8-9725d10dfb7a\")>,\n",
       " <selenium.webdriver.remote.webelement.WebElement (session=\"aecc76920c8dbd7043d7dc76f84b2b29\", element=\"afeb3780-1b4b-4ce9-aa92-0374ff1c3efc\")>,\n",
       " <selenium.webdriver.remote.webelement.WebElement (session=\"aecc76920c8dbd7043d7dc76f84b2b29\", element=\"6ba889e8-da3d-42cd-b9ba-9ed17b1cee6b\")>,\n",
       " <selenium.webdriver.remote.webelement.WebElement (session=\"aecc76920c8dbd7043d7dc76f84b2b29\", element=\"1415dc00-9983-4aaf-9e78-0a60cf207439\")>,\n",
       " <selenium.webdriver.remote.webelement.WebElement (session=\"aecc76920c8dbd7043d7dc76f84b2b29\", element=\"a3329e6d-3336-412c-8dfa-364d764f603a\")>,\n",
       " <selenium.webdriver.remote.webelement.WebElement (session=\"aecc76920c8dbd7043d7dc76f84b2b29\", element=\"a3a851e9-4b2e-488e-9396-ca256fd788de\")>,\n",
       " <selenium.webdriver.remote.webelement.WebElement (session=\"aecc76920c8dbd7043d7dc76f84b2b29\", element=\"93312592-0af6-4691-ac20-5df36ddc978b\")>,\n",
       " <selenium.webdriver.remote.webelement.WebElement (session=\"aecc76920c8dbd7043d7dc76f84b2b29\", element=\"9f1bc2ad-685e-455e-89db-50efa32a2bbd\")>,\n",
       " <selenium.webdriver.remote.webelement.WebElement (session=\"aecc76920c8dbd7043d7dc76f84b2b29\", element=\"cb527dcc-662e-4c2c-9742-294e43adc55f\")>,\n",
       " <selenium.webdriver.remote.webelement.WebElement (session=\"aecc76920c8dbd7043d7dc76f84b2b29\", element=\"ba1aafbf-8dd3-4409-ba16-c7b4a4fce188\")>,\n",
       " <selenium.webdriver.remote.webelement.WebElement (session=\"aecc76920c8dbd7043d7dc76f84b2b29\", element=\"8a0e6ff7-976c-42de-bb0e-b3fdbe98c38f\")>,\n",
       " <selenium.webdriver.remote.webelement.WebElement (session=\"aecc76920c8dbd7043d7dc76f84b2b29\", element=\"af75b5a9-0326-4961-a781-821415452489\")>,\n",
       " <selenium.webdriver.remote.webelement.WebElement (session=\"aecc76920c8dbd7043d7dc76f84b2b29\", element=\"d8deb5aa-82b4-461c-9296-7745617d0be6\")>]"
      ]
     },
     "execution_count": 285,
     "metadata": {},
     "output_type": "execute_result"
    }
   ],
   "source": [
    "Exp_tag=driver.find_elements_by_xpath('//li[@class=\"fleft grey-text br2 placeHolderLi experience\"]')\n",
    "Exp_tag"
   ]
  },
  {
   "cell_type": "code",
   "execution_count": 286,
   "metadata": {},
   "outputs": [
    {
     "data": {
      "text/plain": [
       "['0-0 Yrs',\n",
       " '0-0 Yrs',\n",
       " '4-7 Yrs',\n",
       " '0-0 Yrs',\n",
       " '0-0 Yrs',\n",
       " '3-6 Yrs',\n",
       " '2-7 Yrs',\n",
       " '0-0 Yrs',\n",
       " '3-7 Yrs',\n",
       " '5-10 Yrs',\n",
       " '1-3 Yrs',\n",
       " '4-6 Yrs',\n",
       " '3-6 Yrs',\n",
       " '2-6 Yrs',\n",
       " '2-5 Yrs',\n",
       " '5-10 Yrs',\n",
       " '0-1 Yrs',\n",
       " '2-5 Yrs',\n",
       " '1-5 Yrs',\n",
       " '3-7 Yrs']"
      ]
     },
     "execution_count": 286,
     "metadata": {},
     "output_type": "execute_result"
    }
   ],
   "source": [
    "experience=[]\n",
    "for i in Exp_tag:\n",
    "    experience.append(i.text)\n",
    "experience"
   ]
  },
  {
   "cell_type": "code",
   "execution_count": 287,
   "metadata": {},
   "outputs": [
    {
     "name": "stdout",
     "output_type": "stream",
     "text": [
      "20 20 20 20\n"
     ]
    }
   ],
   "source": [
    "print(len(titles),len(location),len(company),len(experience))"
   ]
  },
  {
   "cell_type": "code",
   "execution_count": 288,
   "metadata": {},
   "outputs": [
    {
     "data": {
      "text/html": [
       "<div>\n",
       "<style scoped>\n",
       "    .dataframe tbody tr th:only-of-type {\n",
       "        vertical-align: middle;\n",
       "    }\n",
       "\n",
       "    .dataframe tbody tr th {\n",
       "        vertical-align: top;\n",
       "    }\n",
       "\n",
       "    .dataframe thead th {\n",
       "        text-align: right;\n",
       "    }\n",
       "</style>\n",
       "<table border=\"1\" class=\"dataframe\">\n",
       "  <thead>\n",
       "    <tr style=\"text-align: right;\">\n",
       "      <th></th>\n",
       "      <th>TITLE</th>\n",
       "      <th>COMPANY</th>\n",
       "      <th>LOCATION</th>\n",
       "      <th>EXP_REQ</th>\n",
       "    </tr>\n",
       "  </thead>\n",
       "  <tbody>\n",
       "    <tr>\n",
       "      <th>0</th>\n",
       "      <td>Data Scientist/ Machine Learning Engineer</td>\n",
       "      <td>Hyderabad/Secunderabad, Pune, Ahmedabad, Gurga...</td>\n",
       "      <td>Creative Hands HR Consultancy</td>\n",
       "      <td>0-0 Yrs</td>\n",
       "    </tr>\n",
       "    <tr>\n",
       "      <th>1</th>\n",
       "      <td>Data Scientist / Data Analyst / Business Analy...</td>\n",
       "      <td>Ghaziabad, Faridabad, Delhi / NCR</td>\n",
       "      <td>GABA Consultancy services</td>\n",
       "      <td>0-0 Yrs</td>\n",
       "    </tr>\n",
       "    <tr>\n",
       "      <th>2</th>\n",
       "      <td>Job Opportunity || Data Scientist || HCL Techn...</td>\n",
       "      <td>Delhi / NCR</td>\n",
       "      <td>HCL Technologies</td>\n",
       "      <td>4-7 Yrs</td>\n",
       "    </tr>\n",
       "    <tr>\n",
       "      <th>3</th>\n",
       "      <td>Only Fresher / Python Data Scientist / Trainee...</td>\n",
       "      <td>Noida, New Delhi, Gurgaon/Gurugram</td>\n",
       "      <td>GABA Consultancy services</td>\n",
       "      <td>0-0 Yrs</td>\n",
       "    </tr>\n",
       "    <tr>\n",
       "      <th>4</th>\n",
       "      <td>Data Scientist / Data Analyst / Business Analy...</td>\n",
       "      <td>Noida, New Delhi, Gurgaon/Gurugram</td>\n",
       "      <td>GABA Consultancy services</td>\n",
       "      <td>0-0 Yrs</td>\n",
       "    </tr>\n",
       "    <tr>\n",
       "      <th>5</th>\n",
       "      <td>Data Scientist</td>\n",
       "      <td>Noida\\n(WFH during Covid)</td>\n",
       "      <td>R Systems International Ltd.</td>\n",
       "      <td>3-6 Yrs</td>\n",
       "    </tr>\n",
       "    <tr>\n",
       "      <th>6</th>\n",
       "      <td>Data Scientist - Insurance</td>\n",
       "      <td>Noida, Gurgaon/Gurugram</td>\n",
       "      <td>Huquo Consulting Pvt. Ltd</td>\n",
       "      <td>2-7 Yrs</td>\n",
       "    </tr>\n",
       "    <tr>\n",
       "      <th>7</th>\n",
       "      <td>Only Fresher / Data Scientist / Data Analyst /...</td>\n",
       "      <td>Noida, Gurgaon/Gurugram, Delhi / NCR</td>\n",
       "      <td>GABA Consultancy services</td>\n",
       "      <td>0-0 Yrs</td>\n",
       "    </tr>\n",
       "    <tr>\n",
       "      <th>8</th>\n",
       "      <td>Data Scientist - WFH - MIND Infotech</td>\n",
       "      <td>Pune, Chennai, Bangalore/Bengaluru, Delhi / NC...</td>\n",
       "      <td>MOTHERSONSUMI INFOTECH &amp; DESIGNS LIMITED</td>\n",
       "      <td>3-7 Yrs</td>\n",
       "    </tr>\n",
       "    <tr>\n",
       "      <th>9</th>\n",
       "      <td>Immediate Openings For Data Scientist For Wipr...</td>\n",
       "      <td>Gurgaon/Gurugram</td>\n",
       "      <td>IDESLABS PRIVATE LIMITED</td>\n",
       "      <td>5-10 Yrs</td>\n",
       "    </tr>\n",
       "  </tbody>\n",
       "</table>\n",
       "</div>"
      ],
      "text/plain": [
       "                                               TITLE  \\\n",
       "0          Data Scientist/ Machine Learning Engineer   \n",
       "1  Data Scientist / Data Analyst / Business Analy...   \n",
       "2  Job Opportunity || Data Scientist || HCL Techn...   \n",
       "3  Only Fresher / Python Data Scientist / Trainee...   \n",
       "4  Data Scientist / Data Analyst / Business Analy...   \n",
       "5                                     Data Scientist   \n",
       "6                         Data Scientist - Insurance   \n",
       "7  Only Fresher / Data Scientist / Data Analyst /...   \n",
       "8               Data Scientist - WFH - MIND Infotech   \n",
       "9  Immediate Openings For Data Scientist For Wipr...   \n",
       "\n",
       "                                             COMPANY  \\\n",
       "0  Hyderabad/Secunderabad, Pune, Ahmedabad, Gurga...   \n",
       "1                  Ghaziabad, Faridabad, Delhi / NCR   \n",
       "2                                        Delhi / NCR   \n",
       "3                 Noida, New Delhi, Gurgaon/Gurugram   \n",
       "4                 Noida, New Delhi, Gurgaon/Gurugram   \n",
       "5                          Noida\\n(WFH during Covid)   \n",
       "6                            Noida, Gurgaon/Gurugram   \n",
       "7               Noida, Gurgaon/Gurugram, Delhi / NCR   \n",
       "8  Pune, Chennai, Bangalore/Bengaluru, Delhi / NC...   \n",
       "9                                   Gurgaon/Gurugram   \n",
       "\n",
       "                                   LOCATION   EXP_REQ  \n",
       "0             Creative Hands HR Consultancy   0-0 Yrs  \n",
       "1                 GABA Consultancy services   0-0 Yrs  \n",
       "2                          HCL Technologies   4-7 Yrs  \n",
       "3                 GABA Consultancy services   0-0 Yrs  \n",
       "4                 GABA Consultancy services   0-0 Yrs  \n",
       "5              R Systems International Ltd.   3-6 Yrs  \n",
       "6                 Huquo Consulting Pvt. Ltd   2-7 Yrs  \n",
       "7                 GABA Consultancy services   0-0 Yrs  \n",
       "8  MOTHERSONSUMI INFOTECH & DESIGNS LIMITED   3-7 Yrs  \n",
       "9                  IDESLABS PRIVATE LIMITED  5-10 Yrs  "
      ]
     },
     "execution_count": 288,
     "metadata": {},
     "output_type": "execute_result"
    }
   ],
   "source": [
    "Delhi_job=pd.DataFrame({})\n",
    "Delhi_job['TITLE']=titles[:10]\n",
    "Delhi_job['COMPANY']=location[:10]\n",
    "Delhi_job['LOCATION']=company[:10]\n",
    "Delhi_job['EXP_REQ']=experience[:10]\n",
    "Delhi_job"
   ]
  },
  {
   "cell_type": "code",
   "execution_count": null,
   "metadata": {},
   "outputs": [],
   "source": []
  },
  {
   "cell_type": "markdown",
   "metadata": {},
   "source": [
    "9: Go to the link - https://www.myntra.com/shoes Set Price filter to “Rs. 6649 to Rs. 13099” , Color filter to “Black”,And then scrape First 100 shoes data you get. The data should include “Brand” of the shoes , Short Shoe description, price of the shoe as shown in the below image"
   ]
  },
  {
   "cell_type": "code",
   "execution_count": 289,
   "metadata": {},
   "outputs": [],
   "source": [
    "options = webdriver.ChromeOptions()\n",
    "\n",
    "options.add_argument(\"start-maximized\")\n",
    "\n",
    "driver = uc.Chrome(executable_path='chromedriver.exe', options=options)\n",
    "\n",
    "keyword = \"https://www.myntra.com/shoes\"\n",
    "\n",
    "driver.get(keyword)"
   ]
  },
  {
   "cell_type": "code",
   "execution_count": 292,
   "metadata": {},
   "outputs": [
    {
     "data": {
      "text/plain": [
       "<selenium.webdriver.remote.webelement.WebElement (session=\"a69cdd467a22282c384f0994e7fc4a01\", element=\"e68efd0d-36cf-4cee-a013-9d81246c0c52\")>"
      ]
     },
     "execution_count": 292,
     "metadata": {},
     "output_type": "execute_result"
    }
   ],
   "source": [
    "search_tags=driver.find_element_by_xpath('//input[@class=\"desktop-searchBar\"]')\n",
    "search_tags"
   ]
  },
  {
   "cell_type": "code",
   "execution_count": 293,
   "metadata": {},
   "outputs": [],
   "source": [
    "search_tags.send_keys(\"shoes\")"
   ]
  },
  {
   "cell_type": "code",
   "execution_count": 294,
   "metadata": {},
   "outputs": [],
   "source": [
    "driver.find_elements(By.XPATH,\"//input[@type='checkbox' and @class='price-input']/..\")[1].click()\n",
    "time.sleep(3)"
   ]
  },
  {
   "cell_type": "code",
   "execution_count": 295,
   "metadata": {},
   "outputs": [],
   "source": [
    "driver.find_element(By.XPATH,\"//label[@class='common-customCheckbox']/span[@data-colorhex='black']\").click()\n",
    "time.sleep(2)"
   ]
  },
  {
   "cell_type": "code",
   "execution_count": 298,
   "metadata": {},
   "outputs": [
    {
     "name": "stdout",
     "output_type": "stream",
     "text": [
      "[['Nike'], ['Puma'], ['Geox'], ['UNDER ARMOUR'], ['PUMA Motorsport'], ['Puma'], ['Puma'], ['Puma'], ['ROSSO BRUNELLO'], ['J.FONTINI'], ['Puma'], ['Puma'], ['ROSSO BRUNELLO'], ['UNDER ARMOUR'], ['UNDER ARMOUR'], ['Tommy Hilfiger'], ['UNDER ARMOUR'], ['Tommy Hilfiger'], ['Hush Puppies'], ['Puma'], ['UNDER ARMOUR'], ['PUMA Motorsport'], ['Calvin Klein'], ['Hush Puppies'], ['UNDER ARMOUR'], ['PUMA Motorsport'], ['Puma'], ['UNDER ARMOUR'], ['Tommy Hilfiger'], ['UNDER ARMOUR'], ['J.FONTINI'], ['Puma'], ['Quechua By Decathlon'], ['Puma'], ['ASICS'], ['Hush Puppies'], ['Hush Puppies'], ['Puma'], ['Puma'], ['ASICS'], ['PUMA Hoops'], ['Tommy Hilfiger'], ['FORCLAZ By Decathlon'], ['Puma'], ['Hush Puppies'], ['Geox'], ['Puma'], ['ROSSO BRUNELLO'], ['Heel & Buckle London'], ['Tommy Hilfiger'], ['Nike'], ['Puma'], ['Geox'], ['UNDER ARMOUR'], ['PUMA Motorsport'], ['Geox'], ['Puma'], ['Puma'], ['Puma'], ['Puma'], ['Puma'], ['J.FONTINI'], ['UNDER ARMOUR'], ['ROSSO BRUNELLO'], ['UNDER ARMOUR'], ['Tommy Hilfiger'], ['ROSSO BRUNELLO'], ['UNDER ARMOUR'], ['Tommy Hilfiger'], ['Hush Puppies'], ['Puma'], ['UNDER ARMOUR'], ['PUMA Motorsport'], ['Calvin Klein'], ['Hush Puppies'], ['UNDER ARMOUR'], ['PUMA Motorsport'], ['Puma'], ['UNDER ARMOUR'], ['Tommy Hilfiger'], ['Puma'], ['J.FONTINI'], ['UNDER ARMOUR'], ['Quechua By Decathlon'], ['Puma'], ['ASICS'], ['Hush Puppies'], ['Hush Puppies'], ['Puma'], ['Puma'], ['ASICS'], ['PUMA Hoops'], ['Tommy Hilfiger'], ['FORCLAZ By Decathlon'], ['Puma'], ['Hush Puppies'], ['Geox'], ['Puma'], ['Heel & Buckle London'], ['Tommy Hilfiger']]\n",
      "[[\"Men BlazerLow '77 Sneakers\"], ['Men Cell Fraction Fade Running'], ['Men Sneakers'], ['Men HOVR Sonic 4 Running Shoes'], ['Unisex BMW MMS RS-FastSneakers'], ['Men BlackTraining or Gym Shoes'], ['Mesh Hybrid Fuego Running'], ['Men Liberate Nitro Running'], ['Men Leather Formal Loafers'], ['Men Black Leather Loafers'], ['Men FUSE Training Shoes'], ['Women Deviate Nitro Running'], ['Men Leather Formal Loafers'], ['Women HOVR Sonic 4 FnRn'], ['Women HOVR Sonic 4 Running'], ['Men Leather Horsebit Loafers'], ['Men HOVR Sonic STRT Tech Shoes'], ['Men Leather Sneakers'], ['Men Solid Leather Formal Slip-Ons'], ['Men Velocity Nitro Running'], ['Women Charged Impulse Shft'], ['Scuderia Ferrari A3ROCAT Shoes'], ['Men Loafers'], ['Men Leather Slip-On Sneakers'], ['Women Charged Vantage ClrShft'], ['Unisex Ferrari Drift8 Sneakers'], ['Men Black Shoes'], ['Women Charged Rogue 2.5ClrSft'], ['Men Striped Leather Sneakers'], ['Women Charged Assert 8 Running'], ['Men Solid Loafers'], ['Women Eternity Nitro Running'], ['Men Trekking Shoes'], ['Men Liberate NITRO Running'], ['Women GlideRide Running Shoes'], ['Men Solid Leather Formal Slip-Ons'], ['Men Formal Derbys'], ['Unisex RS-Z Running Shoes'], ['Women Liberate Nitro Running'], ['Women Running Shoes'], ['Unisex Clyde Basketball Shoes'], ['Men Lightweight Sneakers'], ['TREKKING 100 Boots'], ['Women Provoke XT FTR Shoes'], ['Men Solid Leather Formal Derbys'], ['Men Leather Driving Shoes'], ['Unisex Leather Trainers'], ['Men Solid Leather Formal Loafers'], ['Men Leather Sneakers'], ['Men Suede Sneakers'], [\"Men BlazerLow '77 Sneakers\"], ['Men Cell Fraction Fade Running'], ['Men Solid Sneakers'], ['Men HOVR Sonic 4 Running Shoes'], ['Unisex BMW MMS RS-FastSneakers'], ['Men Sneakers'], ['Men BlackTraining or Gym Shoes'], ['Mesh Hybrid Fuego Running'], ['Men Liberate Nitro Running'], ['Men FUSE Training Shoes'], ['Women Deviate Nitro Running'], ['Men Black Leather Loafers'], ['Women HOVR Sonic 4 FnRn'], ['Men Leather Formal Loafers'], ['Women HOVR Sonic 4 Running'], ['Men Leather Horsebit Loafers'], ['Men Leather Formal Loafers'], ['Men HOVR Sonic STRT Tech Shoes'], ['Men Leather Sneakers'], ['Men Solid Leather Formal Slip-Ons'], ['Men Velocity Nitro Running'], ['Women Charged Impulse Shft'], ['Scuderia Ferrari A3ROCAT Shoes'], ['Men Loafers'], ['Men Leather Slip-On Sneakers'], ['Women Charged Vantage ClrShft'], ['Unisex Ferrari Drift8 Sneakers'], ['Men Black Shoes'], ['Women Charged Rogue 2.5ClrSft'], ['Men Striped Leather Sneakers'], ['Women Eternity Nitro Running'], ['Men Solid Loafers'], ['Women Charged Assert 8 Running'], ['Men Trekking Shoes'], ['Men Liberate NITRO Running'], ['Women GlideRide Running Shoes'], ['Men Solid Leather Formal Slip-Ons'], ['Men Formal Derbys'], ['Unisex RS-Z Running Shoes'], ['Women Liberate Nitro Running'], ['Women Running Shoes'], ['Unisex Clyde Basketball Shoes'], ['Men Lightweight Sneakers'], ['TREKKING 100 Boots'], ['Women Provoke XT FTR Shoes'], ['Men Solid Leather Formal Derbys'], ['Men Leather Driving Shoes'], ['Unisex Leather Trainers'], ['Men Leather Sneakers'], ['Men Suede Sneakers']]\n",
      "[['Rs. 7195'], ['Rs. 6999'], ['Rs. 9999'], ['Rs. 10999'], ['Rs. 7999Rs. 9999(20% OFF)'], ['Rs. 6999'], ['Rs. 6999'], ['Rs. 7499Rs. 9999(25% OFF)'], ['Rs. 12999'], ['Rs. 8490'], ['Rs. 7999'], ['Rs. 10499Rs. 14999(30% OFF)'], ['Rs. 11999'], ['Rs. 10999'], ['Rs. 10999'], ['Rs. 8599'], ['Rs. 9999'], ['Rs. 6999'], ['Rs. 8099Rs. 8999(10% OFF)'], ['Rs. 10999'], ['Rs. 7499'], ['Rs. 7999'], ['Rs. 7199Rs. 8999(20% OFF)'], ['Rs. 6999Rs. 9999(30% OFF)'], ['Rs. 7999'], ['Rs. 7999'], ['Rs. 6999'], ['Rs. 7999'], ['Rs. 7599'], ['Rs. 6999'], ['Rs. 8990'], ['Rs. 7799Rs. 12999(40% OFF)'], ['Rs. 9999'], ['Rs. 9999'], ['Rs. 11199Rs. 13999(20% OFF)'], ['Rs. 8999Rs. 9999(10% OFF)'], ['Rs. 8999Rs. 9999(10% OFF)'], ['Rs. 9999'], ['Rs. 6999Rs. 9999(30% OFF)'], ['Rs. 8999'], ['Rs. 8999'], ['Rs. 6999'], ['Rs. 6999'], ['Rs. 7499'], ['Rs. 8999Rs. 9999(10% OFF)'], ['Rs. 9999'], ['Rs. 9999'], ['Rs. 12999'], ['Rs. 7693Rs. 10990(30% OFF)'], ['Rs. 7599'], ['Rs. 7195'], ['Rs. 6999'], ['Rs. 9999'], ['Rs. 10999'], ['Rs. 7999Rs. 9999(20% OFF)'], ['Rs. 9999'], ['Rs. 6999'], ['Rs. 6999'], ['Rs. 7499Rs. 9999(25% OFF)'], ['Rs. 7999'], ['Rs. 10499Rs. 14999(30% OFF)'], ['Rs. 8490'], ['Rs. 10999'], ['Rs. 12999'], ['Rs. 10999'], ['Rs. 8599'], ['Rs. 11999'], ['Rs. 9999'], ['Rs. 6999'], ['Rs. 8099Rs. 8999(10% OFF)'], ['Rs. 10999'], ['Rs. 7499'], ['Rs. 7999'], ['Rs. 7199Rs. 8999(20% OFF)'], ['Rs. 6999Rs. 9999(30% OFF)'], ['Rs. 7999'], ['Rs. 7999'], ['Rs. 6999'], ['Rs. 7999'], ['Rs. 7599'], ['Rs. 7799Rs. 12999(40% OFF)'], ['Rs. 8990'], ['Rs. 6999'], ['Rs. 9999'], ['Rs. 9999'], ['Rs. 11199Rs. 13999(20% OFF)'], ['Rs. 8999Rs. 9999(10% OFF)'], ['Rs. 8999Rs. 9999(10% OFF)'], ['Rs. 9999'], ['Rs. 6999Rs. 9999(30% OFF)'], ['Rs. 8999'], ['Rs. 8999'], ['Rs. 6999'], ['Rs. 6999'], ['Rs. 7499'], ['Rs. 8999Rs. 9999(10% OFF)'], ['Rs. 9999'], ['Rs. 9999'], ['Rs. 7693Rs. 10990(30% OFF)'], ['Rs. 7599']]\n",
      "100\n",
      "100\n",
      "100\n"
     ]
    }
   ],
   "source": [
    "shoe_list = []\n",
    "shoe_list1= []\n",
    "shoe_list2= []\n",
    "  \n",
    "for page in range(1, 3, 1):\n",
    "    \n",
    "    page_url = (\"https://www.myntra.com/shoes?f=Color%3ABlack_36454f&plaEnabled=false&rf=Price%3A6871.0_13578.0_6871.0%20TO%2013578.01\")+ str(page)\n",
    "    driver.get(page_url)\n",
    "    brand = driver.find_elements_by_xpath('//h3[@class=\"product-brand\"]')\n",
    "    short_desc = driver.find_elements_by_class_name(\"product-product\")\n",
    "    price = driver.find_elements_by_class_name(\"product-price\")\n",
    "  \n",
    "    for i in range(len(brand)):\n",
    "        shoe_list.append([brand[i].text])\n",
    "        shoe_list1.append([short_desc[i].text])\n",
    "        shoe_list2.append([price[i].text])\n",
    "    \n",
    "print(shoe_list)\n",
    "print(shoe_list1)\n",
    "print(shoe_list2)\n",
    "\n",
    "print(len(shoe_list))\n",
    "print(len(shoe_list1))\n",
    "print(len(shoe_list2))\n",
    "  "
   ]
  },
  {
   "cell_type": "code",
   "execution_count": 299,
   "metadata": {},
   "outputs": [
    {
     "data": {
      "text/html": [
       "<div>\n",
       "<style scoped>\n",
       "    .dataframe tbody tr th:only-of-type {\n",
       "        vertical-align: middle;\n",
       "    }\n",
       "\n",
       "    .dataframe tbody tr th {\n",
       "        vertical-align: top;\n",
       "    }\n",
       "\n",
       "    .dataframe thead th {\n",
       "        text-align: right;\n",
       "    }\n",
       "</style>\n",
       "<table border=\"1\" class=\"dataframe\">\n",
       "  <thead>\n",
       "    <tr style=\"text-align: right;\">\n",
       "      <th></th>\n",
       "      <th>Brand</th>\n",
       "      <th>Short_Desc</th>\n",
       "      <th>Price</th>\n",
       "    </tr>\n",
       "  </thead>\n",
       "  <tbody>\n",
       "    <tr>\n",
       "      <th>0</th>\n",
       "      <td>[Nike]</td>\n",
       "      <td>[Men BlazerLow '77 Sneakers]</td>\n",
       "      <td>[Rs. 7195]</td>\n",
       "    </tr>\n",
       "    <tr>\n",
       "      <th>1</th>\n",
       "      <td>[Puma]</td>\n",
       "      <td>[Men Cell Fraction Fade Running]</td>\n",
       "      <td>[Rs. 6999]</td>\n",
       "    </tr>\n",
       "    <tr>\n",
       "      <th>2</th>\n",
       "      <td>[Geox]</td>\n",
       "      <td>[Men Sneakers]</td>\n",
       "      <td>[Rs. 9999]</td>\n",
       "    </tr>\n",
       "    <tr>\n",
       "      <th>3</th>\n",
       "      <td>[UNDER ARMOUR]</td>\n",
       "      <td>[Men HOVR Sonic 4 Running Shoes]</td>\n",
       "      <td>[Rs. 10999]</td>\n",
       "    </tr>\n",
       "    <tr>\n",
       "      <th>4</th>\n",
       "      <td>[PUMA Motorsport]</td>\n",
       "      <td>[Unisex BMW MMS RS-FastSneakers]</td>\n",
       "      <td>[Rs. 7999Rs. 9999(20% OFF)]</td>\n",
       "    </tr>\n",
       "    <tr>\n",
       "      <th>...</th>\n",
       "      <td>...</td>\n",
       "      <td>...</td>\n",
       "      <td>...</td>\n",
       "    </tr>\n",
       "    <tr>\n",
       "      <th>95</th>\n",
       "      <td>[Hush Puppies]</td>\n",
       "      <td>[Men Solid Leather Formal Derbys]</td>\n",
       "      <td>[Rs. 8999Rs. 9999(10% OFF)]</td>\n",
       "    </tr>\n",
       "    <tr>\n",
       "      <th>96</th>\n",
       "      <td>[Geox]</td>\n",
       "      <td>[Men Leather Driving Shoes]</td>\n",
       "      <td>[Rs. 9999]</td>\n",
       "    </tr>\n",
       "    <tr>\n",
       "      <th>97</th>\n",
       "      <td>[Puma]</td>\n",
       "      <td>[Unisex Leather Trainers]</td>\n",
       "      <td>[Rs. 9999]</td>\n",
       "    </tr>\n",
       "    <tr>\n",
       "      <th>98</th>\n",
       "      <td>[Heel &amp; Buckle London]</td>\n",
       "      <td>[Men Leather Sneakers]</td>\n",
       "      <td>[Rs. 7693Rs. 10990(30% OFF)]</td>\n",
       "    </tr>\n",
       "    <tr>\n",
       "      <th>99</th>\n",
       "      <td>[Tommy Hilfiger]</td>\n",
       "      <td>[Men Suede Sneakers]</td>\n",
       "      <td>[Rs. 7599]</td>\n",
       "    </tr>\n",
       "  </tbody>\n",
       "</table>\n",
       "<p>100 rows × 3 columns</p>\n",
       "</div>"
      ],
      "text/plain": [
       "                     Brand                         Short_Desc  \\\n",
       "0                   [Nike]       [Men BlazerLow '77 Sneakers]   \n",
       "1                   [Puma]   [Men Cell Fraction Fade Running]   \n",
       "2                   [Geox]                     [Men Sneakers]   \n",
       "3           [UNDER ARMOUR]   [Men HOVR Sonic 4 Running Shoes]   \n",
       "4        [PUMA Motorsport]   [Unisex BMW MMS RS-FastSneakers]   \n",
       "..                     ...                                ...   \n",
       "95          [Hush Puppies]  [Men Solid Leather Formal Derbys]   \n",
       "96                  [Geox]        [Men Leather Driving Shoes]   \n",
       "97                  [Puma]          [Unisex Leather Trainers]   \n",
       "98  [Heel & Buckle London]             [Men Leather Sneakers]   \n",
       "99        [Tommy Hilfiger]               [Men Suede Sneakers]   \n",
       "\n",
       "                           Price  \n",
       "0                     [Rs. 7195]  \n",
       "1                     [Rs. 6999]  \n",
       "2                     [Rs. 9999]  \n",
       "3                    [Rs. 10999]  \n",
       "4    [Rs. 7999Rs. 9999(20% OFF)]  \n",
       "..                           ...  \n",
       "95   [Rs. 8999Rs. 9999(10% OFF)]  \n",
       "96                    [Rs. 9999]  \n",
       "97                    [Rs. 9999]  \n",
       "98  [Rs. 7693Rs. 10990(30% OFF)]  \n",
       "99                    [Rs. 7599]  \n",
       "\n",
       "[100 rows x 3 columns]"
      ]
     },
     "execution_count": 299,
     "metadata": {},
     "output_type": "execute_result"
    }
   ],
   "source": [
    "Black_shoes=pd.DataFrame({})\n",
    "Black_shoes['Brand']=shoe_list\n",
    "Black_shoes['Short_Desc']=shoe_list1\n",
    "Black_shoes['Price']=shoe_list2\n",
    "Black_shoes"
   ]
  },
  {
   "cell_type": "code",
   "execution_count": null,
   "metadata": {},
   "outputs": [],
   "source": []
  },
  {
   "cell_type": "code",
   "execution_count": null,
   "metadata": {},
   "outputs": [],
   "source": []
  },
  {
   "cell_type": "code",
   "execution_count": null,
   "metadata": {},
   "outputs": [],
   "source": []
  },
  {
   "cell_type": "code",
   "execution_count": null,
   "metadata": {},
   "outputs": [],
   "source": []
  },
  {
   "cell_type": "code",
   "execution_count": null,
   "metadata": {},
   "outputs": [],
   "source": []
  },
  {
   "cell_type": "code",
   "execution_count": null,
   "metadata": {},
   "outputs": [],
   "source": []
  },
  {
   "cell_type": "code",
   "execution_count": null,
   "metadata": {},
   "outputs": [],
   "source": []
  },
  {
   "cell_type": "code",
   "execution_count": null,
   "metadata": {},
   "outputs": [],
   "source": []
  },
  {
   "cell_type": "code",
   "execution_count": null,
   "metadata": {},
   "outputs": [],
   "source": []
  },
  {
   "cell_type": "code",
   "execution_count": null,
   "metadata": {},
   "outputs": [],
   "source": []
  },
  {
   "cell_type": "code",
   "execution_count": null,
   "metadata": {},
   "outputs": [],
   "source": []
  },
  {
   "cell_type": "code",
   "execution_count": null,
   "metadata": {},
   "outputs": [],
   "source": []
  },
  {
   "cell_type": "code",
   "execution_count": null,
   "metadata": {},
   "outputs": [],
   "source": []
  },
  {
   "cell_type": "code",
   "execution_count": null,
   "metadata": {},
   "outputs": [],
   "source": []
  },
  {
   "cell_type": "code",
   "execution_count": null,
   "metadata": {},
   "outputs": [],
   "source": []
  },
  {
   "cell_type": "code",
   "execution_count": null,
   "metadata": {},
   "outputs": [],
   "source": []
  },
  {
   "cell_type": "code",
   "execution_count": null,
   "metadata": {},
   "outputs": [],
   "source": []
  },
  {
   "cell_type": "code",
   "execution_count": null,
   "metadata": {},
   "outputs": [],
   "source": []
  },
  {
   "cell_type": "code",
   "execution_count": null,
   "metadata": {},
   "outputs": [],
   "source": []
  },
  {
   "cell_type": "code",
   "execution_count": null,
   "metadata": {},
   "outputs": [],
   "source": []
  },
  {
   "cell_type": "code",
   "execution_count": null,
   "metadata": {},
   "outputs": [],
   "source": [
    "7"
   ]
  },
  {
   "cell_type": "code",
   "execution_count": null,
   "metadata": {},
   "outputs": [],
   "source": []
  },
  {
   "cell_type": "code",
   "execution_count": null,
   "metadata": {},
   "outputs": [],
   "source": []
  },
  {
   "cell_type": "code",
   "execution_count": null,
   "metadata": {},
   "outputs": [],
   "source": []
  },
  {
   "cell_type": "code",
   "execution_count": null,
   "metadata": {},
   "outputs": [],
   "source": []
  },
  {
   "cell_type": "code",
   "execution_count": null,
   "metadata": {},
   "outputs": [],
   "source": []
  },
  {
   "cell_type": "code",
   "execution_count": null,
   "metadata": {},
   "outputs": [],
   "source": []
  },
  {
   "cell_type": "code",
   "execution_count": null,
   "metadata": {},
   "outputs": [],
   "source": []
  },
  {
   "cell_type": "code",
   "execution_count": null,
   "metadata": {},
   "outputs": [],
   "source": []
  },
  {
   "cell_type": "code",
   "execution_count": null,
   "metadata": {},
   "outputs": [],
   "source": []
  },
  {
   "cell_type": "code",
   "execution_count": null,
   "metadata": {},
   "outputs": [],
   "source": []
  },
  {
   "cell_type": "code",
   "execution_count": null,
   "metadata": {},
   "outputs": [],
   "source": []
  },
  {
   "cell_type": "code",
   "execution_count": null,
   "metadata": {},
   "outputs": [],
   "source": []
  },
  {
   "cell_type": "code",
   "execution_count": null,
   "metadata": {},
   "outputs": [],
   "source": []
  },
  {
   "cell_type": "code",
   "execution_count": null,
   "metadata": {},
   "outputs": [],
   "source": []
  },
  {
   "cell_type": "code",
   "execution_count": null,
   "metadata": {},
   "outputs": [],
   "source": []
  },
  {
   "cell_type": "code",
   "execution_count": null,
   "metadata": {},
   "outputs": [],
   "source": []
  },
  {
   "cell_type": "code",
   "execution_count": null,
   "metadata": {},
   "outputs": [],
   "source": []
  },
  {
   "cell_type": "code",
   "execution_count": null,
   "metadata": {},
   "outputs": [],
   "source": []
  },
  {
   "cell_type": "code",
   "execution_count": null,
   "metadata": {},
   "outputs": [],
   "source": []
  },
  {
   "cell_type": "code",
   "execution_count": null,
   "metadata": {},
   "outputs": [],
   "source": []
  },
  {
   "cell_type": "code",
   "execution_count": null,
   "metadata": {},
   "outputs": [],
   "source": []
  },
  {
   "cell_type": "code",
   "execution_count": 176,
   "metadata": {},
   "outputs": [],
   "source": []
  },
  {
   "cell_type": "code",
   "execution_count": 234,
   "metadata": {},
   "outputs": [],
   "source": [
    "\n",
    "\n"
   ]
  },
  {
   "cell_type": "code",
   "execution_count": null,
   "metadata": {},
   "outputs": [],
   "source": []
  },
  {
   "cell_type": "code",
   "execution_count": null,
   "metadata": {},
   "outputs": [],
   "source": []
  },
  {
   "cell_type": "code",
   "execution_count": null,
   "metadata": {},
   "outputs": [],
   "source": []
  },
  {
   "cell_type": "code",
   "execution_count": null,
   "metadata": {},
   "outputs": [],
   "source": []
  },
  {
   "cell_type": "code",
   "execution_count": null,
   "metadata": {},
   "outputs": [],
   "source": []
  },
  {
   "cell_type": "code",
   "execution_count": null,
   "metadata": {},
   "outputs": [],
   "source": []
  },
  {
   "cell_type": "code",
   "execution_count": 228,
   "metadata": {},
   "outputs": [
    {
     "ename": "AttributeError",
     "evalue": "'list' object has no attribute 'click'",
     "output_type": "error",
     "traceback": [
      "\u001b[1;31m---------------------------------------------------------------------------\u001b[0m",
      "\u001b[1;31mAttributeError\u001b[0m                            Traceback (most recent call last)",
      "\u001b[1;32m<ipython-input-228-120b495c4a65>\u001b[0m in \u001b[0;36m<module>\u001b[1;34m\u001b[0m\n\u001b[1;32m----> 1\u001b[1;33m \u001b[0mcheckbox\u001b[0m\u001b[1;33m.\u001b[0m\u001b[0mclick\u001b[0m\u001b[1;33m(\u001b[0m\u001b[1;33m)\u001b[0m\u001b[1;33m\u001b[0m\u001b[1;33m\u001b[0m\u001b[0m\n\u001b[0m",
      "\u001b[1;31mAttributeError\u001b[0m: 'list' object has no attribute 'click'"
     ]
    }
   ],
   "source": [
    "checkbox.click()"
   ]
  },
  {
   "cell_type": "code",
   "execution_count": null,
   "metadata": {},
   "outputs": [],
   "source": []
  },
  {
   "cell_type": "code",
   "execution_count": null,
   "metadata": {},
   "outputs": [],
   "source": []
  },
  {
   "cell_type": "code",
   "execution_count": null,
   "metadata": {},
   "outputs": [],
   "source": []
  },
  {
   "cell_type": "code",
   "execution_count": null,
   "metadata": {},
   "outputs": [],
   "source": []
  },
  {
   "cell_type": "code",
   "execution_count": null,
   "metadata": {},
   "outputs": [],
   "source": []
  },
  {
   "cell_type": "code",
   "execution_count": null,
   "metadata": {},
   "outputs": [],
   "source": []
  },
  {
   "cell_type": "code",
   "execution_count": null,
   "metadata": {},
   "outputs": [],
   "source": []
  },
  {
   "cell_type": "code",
   "execution_count": null,
   "metadata": {},
   "outputs": [],
   "source": []
  },
  {
   "cell_type": "code",
   "execution_count": null,
   "metadata": {},
   "outputs": [],
   "source": []
  },
  {
   "cell_type": "code",
   "execution_count": null,
   "metadata": {},
   "outputs": [],
   "source": []
  },
  {
   "cell_type": "code",
   "execution_count": null,
   "metadata": {},
   "outputs": [],
   "source": []
  },
  {
   "cell_type": "code",
   "execution_count": null,
   "metadata": {},
   "outputs": [],
   "source": []
  },
  {
   "cell_type": "code",
   "execution_count": null,
   "metadata": {},
   "outputs": [],
   "source": []
  },
  {
   "cell_type": "code",
   "execution_count": null,
   "metadata": {},
   "outputs": [],
   "source": []
  },
  {
   "cell_type": "code",
   "execution_count": null,
   "metadata": {},
   "outputs": [],
   "source": []
  },
  {
   "cell_type": "code",
   "execution_count": null,
   "metadata": {},
   "outputs": [],
   "source": []
  },
  {
   "cell_type": "code",
   "execution_count": null,
   "metadata": {},
   "outputs": [],
   "source": []
  },
  {
   "cell_type": "code",
   "execution_count": null,
   "metadata": {},
   "outputs": [],
   "source": []
  },
  {
   "cell_type": "code",
   "execution_count": null,
   "metadata": {},
   "outputs": [],
   "source": []
  },
  {
   "cell_type": "code",
   "execution_count": null,
   "metadata": {},
   "outputs": [],
   "source": []
  },
  {
   "cell_type": "code",
   "execution_count": null,
   "metadata": {},
   "outputs": [],
   "source": []
  },
  {
   "cell_type": "code",
   "execution_count": null,
   "metadata": {},
   "outputs": [],
   "source": []
  },
  {
   "cell_type": "code",
   "execution_count": null,
   "metadata": {},
   "outputs": [],
   "source": []
  },
  {
   "cell_type": "code",
   "execution_count": null,
   "metadata": {},
   "outputs": [],
   "source": []
  },
  {
   "cell_type": "code",
   "execution_count": null,
   "metadata": {},
   "outputs": [],
   "source": []
  },
  {
   "cell_type": "code",
   "execution_count": null,
   "metadata": {},
   "outputs": [],
   "source": []
  },
  {
   "cell_type": "code",
   "execution_count": null,
   "metadata": {},
   "outputs": [],
   "source": []
  },
  {
   "cell_type": "code",
   "execution_count": null,
   "metadata": {},
   "outputs": [],
   "source": []
  },
  {
   "cell_type": "code",
   "execution_count": null,
   "metadata": {},
   "outputs": [],
   "source": []
  },
  {
   "cell_type": "code",
   "execution_count": null,
   "metadata": {},
   "outputs": [],
   "source": []
  },
  {
   "cell_type": "code",
   "execution_count": null,
   "metadata": {},
   "outputs": [],
   "source": []
  },
  {
   "cell_type": "code",
   "execution_count": null,
   "metadata": {},
   "outputs": [],
   "source": []
  },
  {
   "cell_type": "code",
   "execution_count": null,
   "metadata": {},
   "outputs": [],
   "source": []
  },
  {
   "cell_type": "code",
   "execution_count": null,
   "metadata": {},
   "outputs": [],
   "source": []
  },
  {
   "cell_type": "code",
   "execution_count": null,
   "metadata": {},
   "outputs": [],
   "source": []
  },
  {
   "cell_type": "code",
   "execution_count": null,
   "metadata": {},
   "outputs": [],
   "source": []
  },
  {
   "cell_type": "code",
   "execution_count": null,
   "metadata": {},
   "outputs": [],
   "source": []
  },
  {
   "cell_type": "code",
   "execution_count": null,
   "metadata": {},
   "outputs": [],
   "source": []
  },
  {
   "cell_type": "code",
   "execution_count": null,
   "metadata": {},
   "outputs": [],
   "source": []
  },
  {
   "cell_type": "code",
   "execution_count": null,
   "metadata": {},
   "outputs": [],
   "source": []
  },
  {
   "cell_type": "code",
   "execution_count": null,
   "metadata": {},
   "outputs": [],
   "source": []
  },
  {
   "cell_type": "code",
   "execution_count": null,
   "metadata": {},
   "outputs": [],
   "source": []
  },
  {
   "cell_type": "code",
   "execution_count": null,
   "metadata": {},
   "outputs": [],
   "source": []
  },
  {
   "cell_type": "code",
   "execution_count": null,
   "metadata": {},
   "outputs": [],
   "source": [
    "\n"
   ]
  },
  {
   "cell_type": "code",
   "execution_count": null,
   "metadata": {},
   "outputs": [],
   "source": []
  },
  {
   "cell_type": "code",
   "execution_count": null,
   "metadata": {},
   "outputs": [],
   "source": []
  },
  {
   "cell_type": "code",
   "execution_count": 181,
   "metadata": {},
   "outputs": [
    {
     "ename": "AttributeError",
     "evalue": "'list' object has no attribute 'click'",
     "output_type": "error",
     "traceback": [
      "\u001b[1;31m---------------------------------------------------------------------------\u001b[0m",
      "\u001b[1;31mAttributeError\u001b[0m                            Traceback (most recent call last)",
      "\u001b[1;32m<ipython-input-181-120b495c4a65>\u001b[0m in \u001b[0;36m<module>\u001b[1;34m\u001b[0m\n\u001b[1;32m----> 1\u001b[1;33m \u001b[0mcheckbox\u001b[0m\u001b[1;33m.\u001b[0m\u001b[0mclick\u001b[0m\u001b[1;33m(\u001b[0m\u001b[1;33m)\u001b[0m\u001b[1;33m\u001b[0m\u001b[1;33m\u001b[0m\u001b[0m\n\u001b[0m",
      "\u001b[1;31mAttributeError\u001b[0m: 'list' object has no attribute 'click'"
     ]
    }
   ],
   "source": []
  },
  {
   "cell_type": "code",
   "execution_count": null,
   "metadata": {},
   "outputs": [],
   "source": [
    "\n"
   ]
  },
  {
   "cell_type": "code",
   "execution_count": null,
   "metadata": {},
   "outputs": [],
   "source": []
  },
  {
   "cell_type": "code",
   "execution_count": 173,
   "metadata": {},
   "outputs": [
    {
     "data": {
      "text/plain": [
       "[]"
      ]
     },
     "execution_count": 173,
     "metadata": {},
     "output_type": "execute_result"
    }
   ],
   "source": []
  },
  {
   "cell_type": "code",
   "execution_count": null,
   "metadata": {},
   "outputs": [],
   "source": []
  },
  {
   "cell_type": "code",
   "execution_count": null,
   "metadata": {},
   "outputs": [],
   "source": []
  },
  {
   "cell_type": "code",
   "execution_count": null,
   "metadata": {},
   "outputs": [],
   "source": []
  },
  {
   "cell_type": "code",
   "execution_count": null,
   "metadata": {},
   "outputs": [],
   "source": []
  },
  {
   "cell_type": "code",
   "execution_count": null,
   "metadata": {},
   "outputs": [],
   "source": []
  },
  {
   "cell_type": "code",
   "execution_count": null,
   "metadata": {},
   "outputs": [],
   "source": []
  },
  {
   "cell_type": "code",
   "execution_count": null,
   "metadata": {},
   "outputs": [],
   "source": []
  },
  {
   "cell_type": "code",
   "execution_count": null,
   "metadata": {},
   "outputs": [],
   "source": []
  },
  {
   "cell_type": "code",
   "execution_count": null,
   "metadata": {},
   "outputs": [],
   "source": []
  },
  {
   "cell_type": "code",
   "execution_count": null,
   "metadata": {},
   "outputs": [],
   "source": []
  },
  {
   "cell_type": "code",
   "execution_count": null,
   "metadata": {},
   "outputs": [],
   "source": []
  },
  {
   "cell_type": "code",
   "execution_count": null,
   "metadata": {},
   "outputs": [],
   "source": []
  },
  {
   "cell_type": "code",
   "execution_count": null,
   "metadata": {},
   "outputs": [],
   "source": []
  },
  {
   "cell_type": "code",
   "execution_count": null,
   "metadata": {},
   "outputs": [],
   "source": []
  },
  {
   "cell_type": "code",
   "execution_count": null,
   "metadata": {},
   "outputs": [],
   "source": []
  },
  {
   "cell_type": "code",
   "execution_count": null,
   "metadata": {},
   "outputs": [],
   "source": []
  },
  {
   "cell_type": "code",
   "execution_count": null,
   "metadata": {},
   "outputs": [],
   "source": []
  },
  {
   "cell_type": "code",
   "execution_count": null,
   "metadata": {},
   "outputs": [],
   "source": []
  },
  {
   "cell_type": "code",
   "execution_count": null,
   "metadata": {},
   "outputs": [],
   "source": []
  },
  {
   "cell_type": "code",
   "execution_count": null,
   "metadata": {},
   "outputs": [],
   "source": []
  },
  {
   "cell_type": "code",
   "execution_count": null,
   "metadata": {},
   "outputs": [],
   "source": []
  },
  {
   "cell_type": "code",
   "execution_count": 151,
   "metadata": {},
   "outputs": [
    {
     "ename": "NameError",
     "evalue": "name 'click' is not defined",
     "output_type": "error",
     "traceback": [
      "\u001b[1;31m---------------------------------------------------------------------------\u001b[0m",
      "\u001b[1;31mNameError\u001b[0m                                 Traceback (most recent call last)",
      "\u001b[1;32m<ipython-input-151-c5a15d241668>\u001b[0m in \u001b[0;36m<module>\u001b[1;34m\u001b[0m\n\u001b[1;32m----> 1\u001b[1;33m \u001b[0mclick\u001b[0m\u001b[1;33m(\u001b[0m\u001b[1;33m)\u001b[0m\u001b[1;33m\u001b[0m\u001b[1;33m\u001b[0m\u001b[0m\n\u001b[0m",
      "\u001b[1;31mNameError\u001b[0m: name 'click' is not defined"
     ]
    }
   ],
   "source": []
  },
  {
   "cell_type": "code",
   "execution_count": null,
   "metadata": {},
   "outputs": [],
   "source": []
  },
  {
   "cell_type": "code",
   "execution_count": null,
   "metadata": {},
   "outputs": [],
   "source": []
  },
  {
   "cell_type": "code",
   "execution_count": null,
   "metadata": {},
   "outputs": [],
   "source": []
  },
  {
   "cell_type": "code",
   "execution_count": null,
   "metadata": {},
   "outputs": [],
   "source": []
  },
  {
   "cell_type": "code",
   "execution_count": null,
   "metadata": {},
   "outputs": [],
   "source": []
  },
  {
   "cell_type": "code",
   "execution_count": null,
   "metadata": {},
   "outputs": [],
   "source": []
  },
  {
   "cell_type": "code",
   "execution_count": null,
   "metadata": {},
   "outputs": [],
   "source": []
  },
  {
   "cell_type": "code",
   "execution_count": null,
   "metadata": {},
   "outputs": [],
   "source": []
  },
  {
   "cell_type": "code",
   "execution_count": null,
   "metadata": {},
   "outputs": [],
   "source": []
  },
  {
   "cell_type": "code",
   "execution_count": null,
   "metadata": {},
   "outputs": [],
   "source": []
  },
  {
   "cell_type": "code",
   "execution_count": null,
   "metadata": {},
   "outputs": [],
   "source": []
  },
  {
   "cell_type": "code",
   "execution_count": null,
   "metadata": {},
   "outputs": [],
   "source": []
  },
  {
   "cell_type": "code",
   "execution_count": null,
   "metadata": {},
   "outputs": [],
   "source": []
  },
  {
   "cell_type": "code",
   "execution_count": null,
   "metadata": {},
   "outputs": [],
   "source": []
  },
  {
   "cell_type": "code",
   "execution_count": null,
   "metadata": {},
   "outputs": [],
   "source": []
  },
  {
   "cell_type": "code",
   "execution_count": null,
   "metadata": {},
   "outputs": [],
   "source": []
  },
  {
   "cell_type": "code",
   "execution_count": null,
   "metadata": {},
   "outputs": [],
   "source": []
  },
  {
   "cell_type": "code",
   "execution_count": null,
   "metadata": {},
   "outputs": [],
   "source": []
  },
  {
   "cell_type": "code",
   "execution_count": null,
   "metadata": {},
   "outputs": [],
   "source": []
  },
  {
   "cell_type": "code",
   "execution_count": null,
   "metadata": {},
   "outputs": [],
   "source": []
  },
  {
   "cell_type": "code",
   "execution_count": null,
   "metadata": {},
   "outputs": [],
   "source": []
  },
  {
   "cell_type": "code",
   "execution_count": null,
   "metadata": {},
   "outputs": [],
   "source": []
  },
  {
   "cell_type": "code",
   "execution_count": null,
   "metadata": {},
   "outputs": [],
   "source": []
  },
  {
   "cell_type": "code",
   "execution_count": null,
   "metadata": {},
   "outputs": [],
   "source": []
  },
  {
   "cell_type": "code",
   "execution_count": null,
   "metadata": {},
   "outputs": [],
   "source": []
  },
  {
   "cell_type": "code",
   "execution_count": null,
   "metadata": {},
   "outputs": [],
   "source": []
  },
  {
   "cell_type": "code",
   "execution_count": null,
   "metadata": {},
   "outputs": [],
   "source": []
  },
  {
   "cell_type": "code",
   "execution_count": null,
   "metadata": {},
   "outputs": [],
   "source": []
  },
  {
   "cell_type": "code",
   "execution_count": null,
   "metadata": {},
   "outputs": [],
   "source": []
  },
  {
   "cell_type": "code",
   "execution_count": null,
   "metadata": {},
   "outputs": [],
   "source": []
  },
  {
   "cell_type": "code",
   "execution_count": null,
   "metadata": {},
   "outputs": [],
   "source": []
  },
  {
   "cell_type": "code",
   "execution_count": null,
   "metadata": {},
   "outputs": [],
   "source": []
  },
  {
   "cell_type": "code",
   "execution_count": null,
   "metadata": {},
   "outputs": [],
   "source": []
  },
  {
   "cell_type": "code",
   "execution_count": null,
   "metadata": {},
   "outputs": [],
   "source": []
  },
  {
   "cell_type": "code",
   "execution_count": 39,
   "metadata": {},
   "outputs": [],
   "source": [
    "\n",
    "\n"
   ]
  },
  {
   "cell_type": "code",
   "execution_count": null,
   "metadata": {},
   "outputs": [],
   "source": []
  },
  {
   "cell_type": "code",
   "execution_count": 38,
   "metadata": {},
   "outputs": [],
   "source": [
    "\n"
   ]
  },
  {
   "cell_type": "code",
   "execution_count": null,
   "metadata": {},
   "outputs": [],
   "source": []
  },
  {
   "cell_type": "code",
   "execution_count": null,
   "metadata": {},
   "outputs": [],
   "source": []
  },
  {
   "cell_type": "code",
   "execution_count": null,
   "metadata": {},
   "outputs": [],
   "source": []
  },
  {
   "cell_type": "code",
   "execution_count": null,
   "metadata": {},
   "outputs": [],
   "source": []
  },
  {
   "cell_type": "code",
   "execution_count": null,
   "metadata": {},
   "outputs": [],
   "source": []
  },
  {
   "cell_type": "code",
   "execution_count": null,
   "metadata": {},
   "outputs": [],
   "source": []
  },
  {
   "cell_type": "code",
   "execution_count": null,
   "metadata": {},
   "outputs": [],
   "source": []
  },
  {
   "cell_type": "code",
   "execution_count": null,
   "metadata": {},
   "outputs": [],
   "source": []
  },
  {
   "cell_type": "code",
   "execution_count": null,
   "metadata": {},
   "outputs": [],
   "source": []
  },
  {
   "cell_type": "code",
   "execution_count": null,
   "metadata": {},
   "outputs": [],
   "source": []
  },
  {
   "cell_type": "code",
   "execution_count": null,
   "metadata": {},
   "outputs": [],
   "source": []
  },
  {
   "cell_type": "code",
   "execution_count": null,
   "metadata": {},
   "outputs": [],
   "source": []
  },
  {
   "cell_type": "code",
   "execution_count": null,
   "metadata": {},
   "outputs": [],
   "source": []
  },
  {
   "cell_type": "code",
   "execution_count": null,
   "metadata": {},
   "outputs": [],
   "source": []
  },
  {
   "cell_type": "code",
   "execution_count": null,
   "metadata": {},
   "outputs": [],
   "source": []
  },
  {
   "cell_type": "code",
   "execution_count": null,
   "metadata": {},
   "outputs": [],
   "source": []
  },
  {
   "cell_type": "code",
   "execution_count": null,
   "metadata": {},
   "outputs": [],
   "source": []
  },
  {
   "cell_type": "code",
   "execution_count": null,
   "metadata": {},
   "outputs": [],
   "source": []
  },
  {
   "cell_type": "code",
   "execution_count": null,
   "metadata": {},
   "outputs": [],
   "source": []
  },
  {
   "cell_type": "code",
   "execution_count": null,
   "metadata": {},
   "outputs": [],
   "source": []
  },
  {
   "cell_type": "code",
   "execution_count": null,
   "metadata": {},
   "outputs": [],
   "source": []
  },
  {
   "cell_type": "code",
   "execution_count": null,
   "metadata": {},
   "outputs": [],
   "source": []
  },
  {
   "cell_type": "code",
   "execution_count": null,
   "metadata": {},
   "outputs": [],
   "source": []
  },
  {
   "cell_type": "code",
   "execution_count": null,
   "metadata": {},
   "outputs": [],
   "source": []
  },
  {
   "cell_type": "code",
   "execution_count": null,
   "metadata": {},
   "outputs": [],
   "source": []
  },
  {
   "cell_type": "code",
   "execution_count": null,
   "metadata": {},
   "outputs": [],
   "source": []
  }
 ],
 "metadata": {
  "kernelspec": {
   "display_name": "Python 3",
   "language": "python",
   "name": "python3"
  },
  "language_info": {
   "codemirror_mode": {
    "name": "ipython",
    "version": 3
   },
   "file_extension": ".py",
   "mimetype": "text/x-python",
   "name": "python",
   "nbconvert_exporter": "python",
   "pygments_lexer": "ipython3",
   "version": "3.8.5"
  }
 },
 "nbformat": 4,
 "nbformat_minor": 4
}
